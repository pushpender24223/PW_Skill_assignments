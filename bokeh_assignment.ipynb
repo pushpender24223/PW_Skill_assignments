{
 "cells": [
  {
   "cell_type": "raw",
   "id": "1d4fe203",
   "metadata": {},
   "source": [
    "Q1. How can you create a Bokeh plot using Python code?"
   ]
  },
  {
   "cell_type": "code",
   "execution_count": 8,
   "id": "42757f5c",
   "metadata": {},
   "outputs": [
    {
     "data": {
      "text/html": [
       "\n",
       "    <div class=\"bk-root\">\n",
       "        <a href=\"https://bokeh.org\" target=\"_blank\" class=\"bk-logo bk-logo-small bk-logo-notebook\"></a>\n",
       "        <span id=\"1422\">Loading BokehJS ...</span>\n",
       "    </div>"
      ]
     },
     "metadata": {},
     "output_type": "display_data"
    },
    {
     "data": {
      "application/javascript": [
       "\n",
       "(function(root) {\n",
       "  function now() {\n",
       "    return new Date();\n",
       "  }\n",
       "\n",
       "  const force = true;\n",
       "\n",
       "  if (typeof root._bokeh_onload_callbacks === \"undefined\" || force === true) {\n",
       "    root._bokeh_onload_callbacks = [];\n",
       "    root._bokeh_is_loading = undefined;\n",
       "  }\n",
       "\n",
       "  const JS_MIME_TYPE = 'application/javascript';\n",
       "  const HTML_MIME_TYPE = 'text/html';\n",
       "  const EXEC_MIME_TYPE = 'application/vnd.bokehjs_exec.v0+json';\n",
       "  const CLASS_NAME = 'output_bokeh rendered_html';\n",
       "\n",
       "  /**\n",
       "   * Render data to the DOM node\n",
       "   */\n",
       "  function render(props, node) {\n",
       "    const script = document.createElement(\"script\");\n",
       "    node.appendChild(script);\n",
       "  }\n",
       "\n",
       "  /**\n",
       "   * Handle when an output is cleared or removed\n",
       "   */\n",
       "  function handleClearOutput(event, handle) {\n",
       "    const cell = handle.cell;\n",
       "\n",
       "    const id = cell.output_area._bokeh_element_id;\n",
       "    const server_id = cell.output_area._bokeh_server_id;\n",
       "    // Clean up Bokeh references\n",
       "    if (id != null && id in Bokeh.index) {\n",
       "      Bokeh.index[id].model.document.clear();\n",
       "      delete Bokeh.index[id];\n",
       "    }\n",
       "\n",
       "    if (server_id !== undefined) {\n",
       "      // Clean up Bokeh references\n",
       "      const cmd_clean = \"from bokeh.io.state import curstate; print(curstate().uuid_to_server['\" + server_id + \"'].get_sessions()[0].document.roots[0]._id)\";\n",
       "      cell.notebook.kernel.execute(cmd_clean, {\n",
       "        iopub: {\n",
       "          output: function(msg) {\n",
       "            const id = msg.content.text.trim();\n",
       "            if (id in Bokeh.index) {\n",
       "              Bokeh.index[id].model.document.clear();\n",
       "              delete Bokeh.index[id];\n",
       "            }\n",
       "          }\n",
       "        }\n",
       "      });\n",
       "      // Destroy server and session\n",
       "      const cmd_destroy = \"import bokeh.io.notebook as ion; ion.destroy_server('\" + server_id + \"')\";\n",
       "      cell.notebook.kernel.execute(cmd_destroy);\n",
       "    }\n",
       "  }\n",
       "\n",
       "  /**\n",
       "   * Handle when a new output is added\n",
       "   */\n",
       "  function handleAddOutput(event, handle) {\n",
       "    const output_area = handle.output_area;\n",
       "    const output = handle.output;\n",
       "\n",
       "    // limit handleAddOutput to display_data with EXEC_MIME_TYPE content only\n",
       "    if ((output.output_type != \"display_data\") || (!Object.prototype.hasOwnProperty.call(output.data, EXEC_MIME_TYPE))) {\n",
       "      return\n",
       "    }\n",
       "\n",
       "    const toinsert = output_area.element.find(\".\" + CLASS_NAME.split(' ')[0]);\n",
       "\n",
       "    if (output.metadata[EXEC_MIME_TYPE][\"id\"] !== undefined) {\n",
       "      toinsert[toinsert.length - 1].firstChild.textContent = output.data[JS_MIME_TYPE];\n",
       "      // store reference to embed id on output_area\n",
       "      output_area._bokeh_element_id = output.metadata[EXEC_MIME_TYPE][\"id\"];\n",
       "    }\n",
       "    if (output.metadata[EXEC_MIME_TYPE][\"server_id\"] !== undefined) {\n",
       "      const bk_div = document.createElement(\"div\");\n",
       "      bk_div.innerHTML = output.data[HTML_MIME_TYPE];\n",
       "      const script_attrs = bk_div.children[0].attributes;\n",
       "      for (let i = 0; i < script_attrs.length; i++) {\n",
       "        toinsert[toinsert.length - 1].firstChild.setAttribute(script_attrs[i].name, script_attrs[i].value);\n",
       "        toinsert[toinsert.length - 1].firstChild.textContent = bk_div.children[0].textContent\n",
       "      }\n",
       "      // store reference to server id on output_area\n",
       "      output_area._bokeh_server_id = output.metadata[EXEC_MIME_TYPE][\"server_id\"];\n",
       "    }\n",
       "  }\n",
       "\n",
       "  function register_renderer(events, OutputArea) {\n",
       "\n",
       "    function append_mime(data, metadata, element) {\n",
       "      // create a DOM node to render to\n",
       "      const toinsert = this.create_output_subarea(\n",
       "        metadata,\n",
       "        CLASS_NAME,\n",
       "        EXEC_MIME_TYPE\n",
       "      );\n",
       "      this.keyboard_manager.register_events(toinsert);\n",
       "      // Render to node\n",
       "      const props = {data: data, metadata: metadata[EXEC_MIME_TYPE]};\n",
       "      render(props, toinsert[toinsert.length - 1]);\n",
       "      element.append(toinsert);\n",
       "      return toinsert\n",
       "    }\n",
       "\n",
       "    /* Handle when an output is cleared or removed */\n",
       "    events.on('clear_output.CodeCell', handleClearOutput);\n",
       "    events.on('delete.Cell', handleClearOutput);\n",
       "\n",
       "    /* Handle when a new output is added */\n",
       "    events.on('output_added.OutputArea', handleAddOutput);\n",
       "\n",
       "    /**\n",
       "     * Register the mime type and append_mime function with output_area\n",
       "     */\n",
       "    OutputArea.prototype.register_mime_type(EXEC_MIME_TYPE, append_mime, {\n",
       "      /* Is output safe? */\n",
       "      safe: true,\n",
       "      /* Index of renderer in `output_area.display_order` */\n",
       "      index: 0\n",
       "    });\n",
       "  }\n",
       "\n",
       "  // register the mime type if in Jupyter Notebook environment and previously unregistered\n",
       "  if (root.Jupyter !== undefined) {\n",
       "    const events = require('base/js/events');\n",
       "    const OutputArea = require('notebook/js/outputarea').OutputArea;\n",
       "\n",
       "    if (OutputArea.prototype.mime_types().indexOf(EXEC_MIME_TYPE) == -1) {\n",
       "      register_renderer(events, OutputArea);\n",
       "    }\n",
       "  }\n",
       "\n",
       "  \n",
       "  if (typeof (root._bokeh_timeout) === \"undefined\" || force === true) {\n",
       "    root._bokeh_timeout = Date.now() + 5000;\n",
       "    root._bokeh_failed_load = false;\n",
       "  }\n",
       "\n",
       "  const NB_LOAD_WARNING = {'data': {'text/html':\n",
       "     \"<div style='background-color: #fdd'>\\n\"+\n",
       "     \"<p>\\n\"+\n",
       "     \"BokehJS does not appear to have successfully loaded. If loading BokehJS from CDN, this \\n\"+\n",
       "     \"may be due to a slow or bad network connection. Possible fixes:\\n\"+\n",
       "     \"</p>\\n\"+\n",
       "     \"<ul>\\n\"+\n",
       "     \"<li>re-rerun `output_notebook()` to attempt to load from CDN again, or</li>\\n\"+\n",
       "     \"<li>use INLINE resources instead, as so:</li>\\n\"+\n",
       "     \"</ul>\\n\"+\n",
       "     \"<code>\\n\"+\n",
       "     \"from bokeh.resources import INLINE\\n\"+\n",
       "     \"output_notebook(resources=INLINE)\\n\"+\n",
       "     \"</code>\\n\"+\n",
       "     \"</div>\"}};\n",
       "\n",
       "  function display_loaded() {\n",
       "    const el = document.getElementById(\"1422\");\n",
       "    if (el != null) {\n",
       "      el.textContent = \"BokehJS is loading...\";\n",
       "    }\n",
       "    if (root.Bokeh !== undefined) {\n",
       "      if (el != null) {\n",
       "        el.textContent = \"BokehJS \" + root.Bokeh.version + \" successfully loaded.\";\n",
       "      }\n",
       "    } else if (Date.now() < root._bokeh_timeout) {\n",
       "      setTimeout(display_loaded, 100)\n",
       "    }\n",
       "  }\n",
       "\n",
       "\n",
       "  function run_callbacks() {\n",
       "    try {\n",
       "      root._bokeh_onload_callbacks.forEach(function(callback) {\n",
       "        if (callback != null)\n",
       "          callback();\n",
       "      });\n",
       "    } finally {\n",
       "      delete root._bokeh_onload_callbacks\n",
       "    }\n",
       "    console.debug(\"Bokeh: all callbacks have finished\");\n",
       "  }\n",
       "\n",
       "  function load_libs(css_urls, js_urls, callback) {\n",
       "    if (css_urls == null) css_urls = [];\n",
       "    if (js_urls == null) js_urls = [];\n",
       "\n",
       "    root._bokeh_onload_callbacks.push(callback);\n",
       "    if (root._bokeh_is_loading > 0) {\n",
       "      console.debug(\"Bokeh: BokehJS is being loaded, scheduling callback at\", now());\n",
       "      return null;\n",
       "    }\n",
       "    if (js_urls == null || js_urls.length === 0) {\n",
       "      run_callbacks();\n",
       "      return null;\n",
       "    }\n",
       "    console.debug(\"Bokeh: BokehJS not loaded, scheduling load and callback at\", now());\n",
       "    root._bokeh_is_loading = css_urls.length + js_urls.length;\n",
       "\n",
       "    function on_load() {\n",
       "      root._bokeh_is_loading--;\n",
       "      if (root._bokeh_is_loading === 0) {\n",
       "        console.debug(\"Bokeh: all BokehJS libraries/stylesheets loaded\");\n",
       "        run_callbacks()\n",
       "      }\n",
       "    }\n",
       "\n",
       "    function on_error(url) {\n",
       "      console.error(\"failed to load \" + url);\n",
       "    }\n",
       "\n",
       "    for (let i = 0; i < css_urls.length; i++) {\n",
       "      const url = css_urls[i];\n",
       "      const element = document.createElement(\"link\");\n",
       "      element.onload = on_load;\n",
       "      element.onerror = on_error.bind(null, url);\n",
       "      element.rel = \"stylesheet\";\n",
       "      element.type = \"text/css\";\n",
       "      element.href = url;\n",
       "      console.debug(\"Bokeh: injecting link tag for BokehJS stylesheet: \", url);\n",
       "      document.body.appendChild(element);\n",
       "    }\n",
       "\n",
       "    for (let i = 0; i < js_urls.length; i++) {\n",
       "      const url = js_urls[i];\n",
       "      const element = document.createElement('script');\n",
       "      element.onload = on_load;\n",
       "      element.onerror = on_error.bind(null, url);\n",
       "      element.async = false;\n",
       "      element.src = url;\n",
       "      console.debug(\"Bokeh: injecting script tag for BokehJS library: \", url);\n",
       "      document.head.appendChild(element);\n",
       "    }\n",
       "  };\n",
       "\n",
       "  function inject_raw_css(css) {\n",
       "    const element = document.createElement(\"style\");\n",
       "    element.appendChild(document.createTextNode(css));\n",
       "    document.body.appendChild(element);\n",
       "  }\n",
       "\n",
       "  \n",
       "  const js_urls = [\"https://cdn.bokeh.org/bokeh/release/bokeh-2.4.1.min.js\", \"https://cdn.bokeh.org/bokeh/release/bokeh-gl-2.4.1.min.js\", \"https://cdn.bokeh.org/bokeh/release/bokeh-widgets-2.4.1.min.js\", \"https://cdn.bokeh.org/bokeh/release/bokeh-tables-2.4.1.min.js\", \"https://cdn.bokeh.org/bokeh/release/bokeh-mathjax-2.4.1.min.js\"];\n",
       "  const css_urls = [];\n",
       "  \n",
       "\n",
       "  const inline_js = [\n",
       "    function(Bokeh) {\n",
       "      Bokeh.set_log_level(\"info\");\n",
       "    },\n",
       "    function(Bokeh) {\n",
       "    \n",
       "    \n",
       "    }\n",
       "  ];\n",
       "\n",
       "  function run_inline_js() {\n",
       "    \n",
       "    if (root.Bokeh !== undefined || force === true) {\n",
       "      \n",
       "    for (let i = 0; i < inline_js.length; i++) {\n",
       "      inline_js[i].call(root, root.Bokeh);\n",
       "    }\n",
       "    if (force === true) {\n",
       "        display_loaded();\n",
       "      }} else if (Date.now() < root._bokeh_timeout) {\n",
       "      setTimeout(run_inline_js, 100);\n",
       "    } else if (!root._bokeh_failed_load) {\n",
       "      console.log(\"Bokeh: BokehJS failed to load within specified timeout.\");\n",
       "      root._bokeh_failed_load = true;\n",
       "    } else if (force !== true) {\n",
       "      const cell = $(document.getElementById(\"1422\")).parents('.cell').data().cell;\n",
       "      cell.output_area.append_execute_result(NB_LOAD_WARNING)\n",
       "    }\n",
       "\n",
       "  }\n",
       "\n",
       "  if (root._bokeh_is_loading === 0) {\n",
       "    console.debug(\"Bokeh: BokehJS loaded, going straight to plotting\");\n",
       "    run_inline_js();\n",
       "  } else {\n",
       "    load_libs(css_urls, js_urls, function() {\n",
       "      console.debug(\"Bokeh: BokehJS plotting callback run at\", now());\n",
       "      run_inline_js();\n",
       "    });\n",
       "  }\n",
       "}(window));"
      ],
      "application/vnd.bokehjs_load.v0+json": "\n(function(root) {\n  function now() {\n    return new Date();\n  }\n\n  const force = true;\n\n  if (typeof root._bokeh_onload_callbacks === \"undefined\" || force === true) {\n    root._bokeh_onload_callbacks = [];\n    root._bokeh_is_loading = undefined;\n  }\n\n  \n\n  \n  if (typeof (root._bokeh_timeout) === \"undefined\" || force === true) {\n    root._bokeh_timeout = Date.now() + 5000;\n    root._bokeh_failed_load = false;\n  }\n\n  const NB_LOAD_WARNING = {'data': {'text/html':\n     \"<div style='background-color: #fdd'>\\n\"+\n     \"<p>\\n\"+\n     \"BokehJS does not appear to have successfully loaded. If loading BokehJS from CDN, this \\n\"+\n     \"may be due to a slow or bad network connection. Possible fixes:\\n\"+\n     \"</p>\\n\"+\n     \"<ul>\\n\"+\n     \"<li>re-rerun `output_notebook()` to attempt to load from CDN again, or</li>\\n\"+\n     \"<li>use INLINE resources instead, as so:</li>\\n\"+\n     \"</ul>\\n\"+\n     \"<code>\\n\"+\n     \"from bokeh.resources import INLINE\\n\"+\n     \"output_notebook(resources=INLINE)\\n\"+\n     \"</code>\\n\"+\n     \"</div>\"}};\n\n  function display_loaded() {\n    const el = document.getElementById(\"1422\");\n    if (el != null) {\n      el.textContent = \"BokehJS is loading...\";\n    }\n    if (root.Bokeh !== undefined) {\n      if (el != null) {\n        el.textContent = \"BokehJS \" + root.Bokeh.version + \" successfully loaded.\";\n      }\n    } else if (Date.now() < root._bokeh_timeout) {\n      setTimeout(display_loaded, 100)\n    }\n  }\n\n\n  function run_callbacks() {\n    try {\n      root._bokeh_onload_callbacks.forEach(function(callback) {\n        if (callback != null)\n          callback();\n      });\n    } finally {\n      delete root._bokeh_onload_callbacks\n    }\n    console.debug(\"Bokeh: all callbacks have finished\");\n  }\n\n  function load_libs(css_urls, js_urls, callback) {\n    if (css_urls == null) css_urls = [];\n    if (js_urls == null) js_urls = [];\n\n    root._bokeh_onload_callbacks.push(callback);\n    if (root._bokeh_is_loading > 0) {\n      console.debug(\"Bokeh: BokehJS is being loaded, scheduling callback at\", now());\n      return null;\n    }\n    if (js_urls == null || js_urls.length === 0) {\n      run_callbacks();\n      return null;\n    }\n    console.debug(\"Bokeh: BokehJS not loaded, scheduling load and callback at\", now());\n    root._bokeh_is_loading = css_urls.length + js_urls.length;\n\n    function on_load() {\n      root._bokeh_is_loading--;\n      if (root._bokeh_is_loading === 0) {\n        console.debug(\"Bokeh: all BokehJS libraries/stylesheets loaded\");\n        run_callbacks()\n      }\n    }\n\n    function on_error(url) {\n      console.error(\"failed to load \" + url);\n    }\n\n    for (let i = 0; i < css_urls.length; i++) {\n      const url = css_urls[i];\n      const element = document.createElement(\"link\");\n      element.onload = on_load;\n      element.onerror = on_error.bind(null, url);\n      element.rel = \"stylesheet\";\n      element.type = \"text/css\";\n      element.href = url;\n      console.debug(\"Bokeh: injecting link tag for BokehJS stylesheet: \", url);\n      document.body.appendChild(element);\n    }\n\n    for (let i = 0; i < js_urls.length; i++) {\n      const url = js_urls[i];\n      const element = document.createElement('script');\n      element.onload = on_load;\n      element.onerror = on_error.bind(null, url);\n      element.async = false;\n      element.src = url;\n      console.debug(\"Bokeh: injecting script tag for BokehJS library: \", url);\n      document.head.appendChild(element);\n    }\n  };\n\n  function inject_raw_css(css) {\n    const element = document.createElement(\"style\");\n    element.appendChild(document.createTextNode(css));\n    document.body.appendChild(element);\n  }\n\n  \n  const js_urls = [\"https://cdn.bokeh.org/bokeh/release/bokeh-2.4.1.min.js\", \"https://cdn.bokeh.org/bokeh/release/bokeh-gl-2.4.1.min.js\", \"https://cdn.bokeh.org/bokeh/release/bokeh-widgets-2.4.1.min.js\", \"https://cdn.bokeh.org/bokeh/release/bokeh-tables-2.4.1.min.js\", \"https://cdn.bokeh.org/bokeh/release/bokeh-mathjax-2.4.1.min.js\"];\n  const css_urls = [];\n  \n\n  const inline_js = [\n    function(Bokeh) {\n      Bokeh.set_log_level(\"info\");\n    },\n    function(Bokeh) {\n    \n    \n    }\n  ];\n\n  function run_inline_js() {\n    \n    if (root.Bokeh !== undefined || force === true) {\n      \n    for (let i = 0; i < inline_js.length; i++) {\n      inline_js[i].call(root, root.Bokeh);\n    }\n    if (force === true) {\n        display_loaded();\n      }} else if (Date.now() < root._bokeh_timeout) {\n      setTimeout(run_inline_js, 100);\n    } else if (!root._bokeh_failed_load) {\n      console.log(\"Bokeh: BokehJS failed to load within specified timeout.\");\n      root._bokeh_failed_load = true;\n    } else if (force !== true) {\n      const cell = $(document.getElementById(\"1422\")).parents('.cell').data().cell;\n      cell.output_area.append_execute_result(NB_LOAD_WARNING)\n    }\n\n  }\n\n  if (root._bokeh_is_loading === 0) {\n    console.debug(\"Bokeh: BokehJS loaded, going straight to plotting\");\n    run_inline_js();\n  } else {\n    load_libs(css_urls, js_urls, function() {\n      console.debug(\"Bokeh: BokehJS plotting callback run at\", now());\n      run_inline_js();\n    });\n  }\n}(window));"
     },
     "metadata": {},
     "output_type": "display_data"
    }
   ],
   "source": [
    "import bokeh.io\n",
    "import bokeh.plotting\n",
    "bokeh.io.output_notebook()"
   ]
  },
  {
   "cell_type": "code",
   "execution_count": 2,
   "id": "de540bfc",
   "metadata": {},
   "outputs": [],
   "source": [
    "from bokeh.plotting import figure, show, output_file"
   ]
  },
  {
   "cell_type": "code",
   "execution_count": 3,
   "id": "469423bf",
   "metadata": {},
   "outputs": [],
   "source": [
    "x = [1, 2, 3, 4, 5]\n",
    "y = [6, 7, 2, 4, 8]"
   ]
  },
  {
   "cell_type": "code",
   "execution_count": 12,
   "id": "3d2e5e03",
   "metadata": {},
   "outputs": [
    {
     "data": {
      "text/html": [
       "\n",
       "\n",
       "\n",
       "\n",
       "\n",
       "\n",
       "  <div class=\"bk-root\" id=\"c9537904-face-4b25-a147-dc0d1f5bde28\" data-root-id=\"1750\"></div>\n"
      ]
     },
     "metadata": {},
     "output_type": "display_data"
    },
    {
     "data": {
      "application/javascript": [
       "(function(root) {\n",
       "  function embed_document(root) {\n",
       "    \n",
       "  const docs_json = {\"551a3c21-77be-47ff-a461-418ae329d637\":{\"defs\":[],\"roots\":{\"references\":[{\"attributes\":{\"below\":[{\"id\":\"1761\"}],\"center\":[{\"id\":\"1764\"},{\"id\":\"1768\"}],\"left\":[{\"id\":\"1765\"}],\"renderers\":[{\"id\":\"1787\"}],\"title\":{\"id\":\"1751\"},\"toolbar\":{\"id\":\"1776\"},\"x_range\":{\"id\":\"1753\"},\"x_scale\":{\"id\":\"1757\"},\"y_range\":{\"id\":\"1755\"},\"y_scale\":{\"id\":\"1759\"}},\"id\":\"1750\",\"subtype\":\"Figure\",\"type\":\"Plot\"},{\"attributes\":{\"fill_alpha\":{\"value\":0.2},\"fill_color\":{\"value\":\"blue\"},\"hatch_alpha\":{\"value\":0.2},\"hatch_color\":{\"value\":\"blue\"},\"line_alpha\":{\"value\":0.2},\"line_color\":{\"value\":\"blue\"},\"size\":{\"value\":10},\"x\":{\"field\":\"x\"},\"y\":{\"field\":\"y\"}},\"id\":\"1786\",\"type\":\"Scatter\"},{\"attributes\":{\"fill_color\":{\"value\":\"blue\"},\"hatch_color\":{\"value\":\"blue\"},\"line_color\":{\"value\":\"blue\"},\"size\":{\"value\":10},\"x\":{\"field\":\"x\"},\"y\":{\"field\":\"y\"}},\"id\":\"1784\",\"type\":\"Scatter\"},{\"attributes\":{},\"id\":\"1821\",\"type\":\"BasicTickFormatter\"},{\"attributes\":{\"fill_alpha\":{\"value\":0.1},\"fill_color\":{\"value\":\"blue\"},\"hatch_alpha\":{\"value\":0.1},\"hatch_color\":{\"value\":\"blue\"},\"line_alpha\":{\"value\":0.1},\"line_color\":{\"value\":\"blue\"},\"size\":{\"value\":10},\"x\":{\"field\":\"x\"},\"y\":{\"field\":\"y\"}},\"id\":\"1785\",\"type\":\"Scatter\"},{\"attributes\":{\"bottom_units\":\"screen\",\"coordinates\":null,\"fill_alpha\":0.5,\"fill_color\":\"lightgrey\",\"group\":null,\"left_units\":\"screen\",\"level\":\"overlay\",\"line_alpha\":1.0,\"line_color\":\"black\",\"line_dash\":[4,4],\"line_width\":2,\"right_units\":\"screen\",\"syncable\":false,\"top_units\":\"screen\"},\"id\":\"1775\",\"type\":\"BoxAnnotation\"},{\"attributes\":{},\"id\":\"1822\",\"type\":\"AllLabels\"},{\"attributes\":{},\"id\":\"1773\",\"type\":\"ResetTool\"},{\"attributes\":{\"source\":{\"id\":\"1783\"}},\"id\":\"1788\",\"type\":\"CDSView\"},{\"attributes\":{},\"id\":\"1772\",\"type\":\"SaveTool\"},{\"attributes\":{},\"id\":\"1824\",\"type\":\"BasicTickFormatter\"},{\"attributes\":{\"overlay\":{\"id\":\"1775\"}},\"id\":\"1771\",\"type\":\"BoxZoomTool\"},{\"attributes\":{\"coordinates\":null,\"data_source\":{\"id\":\"1783\"},\"glyph\":{\"id\":\"1784\"},\"group\":null,\"hover_glyph\":null,\"muted_glyph\":{\"id\":\"1786\"},\"nonselection_glyph\":{\"id\":\"1785\"},\"view\":{\"id\":\"1788\"}},\"id\":\"1787\",\"type\":\"GlyphRenderer\"},{\"attributes\":{},\"id\":\"1769\",\"type\":\"PanTool\"},{\"attributes\":{},\"id\":\"1774\",\"type\":\"HelpTool\"},{\"attributes\":{},\"id\":\"1825\",\"type\":\"AllLabels\"},{\"attributes\":{},\"id\":\"1766\",\"type\":\"BasicTicker\"},{\"attributes\":{\"axis\":{\"id\":\"1765\"},\"coordinates\":null,\"dimension\":1,\"group\":null,\"ticker\":null},\"id\":\"1768\",\"type\":\"Grid\"},{\"attributes\":{\"axis_label\":\"Y-axis\",\"coordinates\":null,\"formatter\":{\"id\":\"1821\"},\"group\":null,\"major_label_policy\":{\"id\":\"1822\"},\"ticker\":{\"id\":\"1766\"}},\"id\":\"1765\",\"type\":\"LinearAxis\"},{\"attributes\":{},\"id\":\"1770\",\"type\":\"WheelZoomTool\"},{\"attributes\":{\"axis_label\":\"X-axis\",\"coordinates\":null,\"formatter\":{\"id\":\"1824\"},\"group\":null,\"major_label_policy\":{\"id\":\"1825\"},\"ticker\":{\"id\":\"1762\"}},\"id\":\"1761\",\"type\":\"LinearAxis\"},{\"attributes\":{},\"id\":\"1826\",\"type\":\"UnionRenderers\"},{\"attributes\":{\"data\":{\"x\":[1,2,3,4,5],\"y\":[6,7,2,4,8]},\"selected\":{\"id\":\"1827\"},\"selection_policy\":{\"id\":\"1826\"}},\"id\":\"1783\",\"type\":\"ColumnDataSource\"},{\"attributes\":{},\"id\":\"1753\",\"type\":\"DataRange1d\"},{\"attributes\":{},\"id\":\"1827\",\"type\":\"Selection\"},{\"attributes\":{},\"id\":\"1757\",\"type\":\"LinearScale\"},{\"attributes\":{\"tools\":[{\"id\":\"1769\"},{\"id\":\"1770\"},{\"id\":\"1771\"},{\"id\":\"1772\"},{\"id\":\"1773\"},{\"id\":\"1774\"}]},\"id\":\"1776\",\"type\":\"Toolbar\"},{\"attributes\":{},\"id\":\"1762\",\"type\":\"BasicTicker\"},{\"attributes\":{\"axis\":{\"id\":\"1761\"},\"coordinates\":null,\"group\":null,\"ticker\":null},\"id\":\"1764\",\"type\":\"Grid\"},{\"attributes\":{},\"id\":\"1755\",\"type\":\"DataRange1d\"},{\"attributes\":{\"coordinates\":null,\"group\":null,\"text\":\"Bokeh plot\"},\"id\":\"1751\",\"type\":\"Title\"},{\"attributes\":{},\"id\":\"1759\",\"type\":\"LinearScale\"}],\"root_ids\":[\"1750\"]},\"title\":\"Bokeh Application\",\"version\":\"2.4.1\"}};\n",
       "  const render_items = [{\"docid\":\"551a3c21-77be-47ff-a461-418ae329d637\",\"root_ids\":[\"1750\"],\"roots\":{\"1750\":\"c9537904-face-4b25-a147-dc0d1f5bde28\"}}];\n",
       "  root.Bokeh.embed.embed_items_notebook(docs_json, render_items);\n",
       "\n",
       "  }\n",
       "  if (root.Bokeh !== undefined) {\n",
       "    embed_document(root);\n",
       "  } else {\n",
       "    let attempts = 0;\n",
       "    const timer = setInterval(function(root) {\n",
       "      if (root.Bokeh !== undefined) {\n",
       "        clearInterval(timer);\n",
       "        embed_document(root);\n",
       "      } else {\n",
       "        attempts++;\n",
       "        if (attempts > 100) {\n",
       "          clearInterval(timer);\n",
       "          console.log(\"Bokeh: ERROR: Unable to run BokehJS code because BokehJS library is missing\");\n",
       "        }\n",
       "      }\n",
       "    }, 10, root)\n",
       "  }\n",
       "})(window);"
      ],
      "application/vnd.bokehjs_exec.v0+json": ""
     },
     "metadata": {
      "application/vnd.bokehjs_exec.v0+json": {
       "id": "1750"
      }
     },
     "output_type": "display_data"
    }
   ],
   "source": [
    "p= figure(title='Bokeh plot', x_axis_label='X-axis', y_axis_label='Y-axis')\n",
    "p.scatter(x,y, size=10, color='blue')\n",
    "show(p)"
   ]
  },
  {
   "cell_type": "raw",
   "id": "d1d9d89c",
   "metadata": {},
   "source": [
    "Q2. What are glyphs in Bokeh, and how can you add them to a Bokeh plot? Explain with an example."
   ]
  },
  {
   "cell_type": "code",
   "execution_count": 13,
   "id": "76fa0aea",
   "metadata": {},
   "outputs": [
    {
     "data": {
      "text/html": [
       "\n",
       "\n",
       "\n",
       "\n",
       "\n",
       "\n",
       "  <div class=\"bk-root\" id=\"0a5bc538-0d6e-49d0-ba89-0ad03b3d2152\" data-root-id=\"1879\"></div>\n"
      ]
     },
     "metadata": {},
     "output_type": "display_data"
    },
    {
     "data": {
      "application/javascript": [
       "(function(root) {\n",
       "  function embed_document(root) {\n",
       "    \n",
       "  const docs_json = {\"981e0e40-d28a-4ee0-9fd2-61cfb2ca954c\":{\"defs\":[],\"roots\":{\"references\":[{\"attributes\":{\"below\":[{\"id\":\"1890\"}],\"center\":[{\"id\":\"1893\"},{\"id\":\"1897\"}],\"left\":[{\"id\":\"1894\"}],\"renderers\":[{\"id\":\"1916\"}],\"title\":{\"id\":\"1880\"},\"toolbar\":{\"id\":\"1905\"},\"x_range\":{\"id\":\"1882\"},\"x_scale\":{\"id\":\"1886\"},\"y_range\":{\"id\":\"1884\"},\"y_scale\":{\"id\":\"1888\"}},\"id\":\"1879\",\"subtype\":\"Figure\",\"type\":\"Plot\"},{\"attributes\":{},\"id\":\"1895\",\"type\":\"BasicTicker\"},{\"attributes\":{\"axis\":{\"id\":\"1894\"},\"coordinates\":null,\"dimension\":1,\"grid_line_color\":\"gray\",\"group\":null,\"ticker\":null},\"id\":\"1897\",\"type\":\"Grid\"},{\"attributes\":{\"axis_label\":\"Y-axis\",\"coordinates\":null,\"formatter\":{\"id\":\"1960\"},\"group\":null,\"major_label_policy\":{\"id\":\"1961\"},\"ticker\":{\"id\":\"1895\"}},\"id\":\"1894\",\"type\":\"LinearAxis\"},{\"attributes\":{},\"id\":\"1960\",\"type\":\"BasicTickFormatter\"},{\"attributes\":{},\"id\":\"1961\",\"type\":\"AllLabels\"},{\"attributes\":{},\"id\":\"1966\",\"type\":\"Selection\"},{\"attributes\":{},\"id\":\"1963\",\"type\":\"BasicTickFormatter\"},{\"attributes\":{\"source\":{\"id\":\"1912\"}},\"id\":\"1917\",\"type\":\"CDSView\"},{\"attributes\":{},\"id\":\"1964\",\"type\":\"AllLabels\"},{\"attributes\":{\"fill_alpha\":{\"value\":0.2},\"fill_color\":{\"value\":\"red\"},\"hatch_alpha\":{\"value\":0.2},\"hatch_color\":{\"value\":\"red\"},\"line_alpha\":{\"value\":0.2},\"line_color\":{\"value\":\"red\"},\"size\":{\"value\":10},\"x\":{\"field\":\"x\"},\"y\":{\"field\":\"y\"}},\"id\":\"1915\",\"type\":\"Circle\"},{\"attributes\":{\"coordinates\":null,\"data_source\":{\"id\":\"1912\"},\"glyph\":{\"id\":\"1913\"},\"group\":null,\"hover_glyph\":null,\"muted_glyph\":{\"id\":\"1915\"},\"nonselection_glyph\":{\"id\":\"1914\"},\"view\":{\"id\":\"1917\"}},\"id\":\"1916\",\"type\":\"GlyphRenderer\"},{\"attributes\":{},\"id\":\"1882\",\"type\":\"DataRange1d\"},{\"attributes\":{},\"id\":\"1965\",\"type\":\"UnionRenderers\"},{\"attributes\":{\"fill_alpha\":{\"value\":0.1},\"fill_color\":{\"value\":\"red\"},\"hatch_alpha\":{\"value\":0.1},\"hatch_color\":{\"value\":\"red\"},\"line_alpha\":{\"value\":0.1},\"line_color\":{\"value\":\"red\"},\"size\":{\"value\":10},\"x\":{\"field\":\"x\"},\"y\":{\"field\":\"y\"}},\"id\":\"1914\",\"type\":\"Circle\"},{\"attributes\":{},\"id\":\"1886\",\"type\":\"LinearScale\"},{\"attributes\":{\"axis_label\":\"X-axis\",\"bounds\":[1,5],\"coordinates\":null,\"formatter\":{\"id\":\"1963\"},\"group\":null,\"major_label_policy\":{\"id\":\"1964\"},\"ticker\":{\"id\":\"1891\"}},\"id\":\"1890\",\"type\":\"LinearAxis\"},{\"attributes\":{\"axis\":{\"id\":\"1890\"},\"coordinates\":null,\"group\":null,\"ticker\":null},\"id\":\"1893\",\"type\":\"Grid\"},{\"attributes\":{\"tools\":[{\"id\":\"1898\"},{\"id\":\"1899\"},{\"id\":\"1900\"},{\"id\":\"1901\"},{\"id\":\"1902\"},{\"id\":\"1903\"}]},\"id\":\"1905\",\"type\":\"Toolbar\"},{\"attributes\":{\"bottom_units\":\"screen\",\"coordinates\":null,\"fill_alpha\":0.5,\"fill_color\":\"lightgrey\",\"group\":null,\"left_units\":\"screen\",\"level\":\"overlay\",\"line_alpha\":1.0,\"line_color\":\"black\",\"line_dash\":[4,4],\"line_width\":2,\"right_units\":\"screen\",\"syncable\":false,\"top_units\":\"screen\"},\"id\":\"1904\",\"type\":\"BoxAnnotation\"},{\"attributes\":{\"coordinates\":null,\"group\":null,\"text\":\"Bokeh plot\"},\"id\":\"1880\",\"type\":\"Title\"},{\"attributes\":{},\"id\":\"1891\",\"type\":\"BasicTicker\"},{\"attributes\":{},\"id\":\"1899\",\"type\":\"WheelZoomTool\"},{\"attributes\":{},\"id\":\"1888\",\"type\":\"LinearScale\"},{\"attributes\":{\"fill_alpha\":{\"value\":0.7},\"fill_color\":{\"value\":\"red\"},\"hatch_alpha\":{\"value\":0.7},\"hatch_color\":{\"value\":\"red\"},\"line_alpha\":{\"value\":0.7},\"line_color\":{\"value\":\"red\"},\"size\":{\"value\":10},\"x\":{\"field\":\"x\"},\"y\":{\"field\":\"y\"}},\"id\":\"1913\",\"type\":\"Circle\"},{\"attributes\":{},\"id\":\"1884\",\"type\":\"DataRange1d\"},{\"attributes\":{},\"id\":\"1902\",\"type\":\"ResetTool\"},{\"attributes\":{},\"id\":\"1901\",\"type\":\"SaveTool\"},{\"attributes\":{\"overlay\":{\"id\":\"1904\"}},\"id\":\"1900\",\"type\":\"BoxZoomTool\"},{\"attributes\":{},\"id\":\"1898\",\"type\":\"PanTool\"},{\"attributes\":{\"data\":{\"x\":[1,2,3,4,5],\"y\":[6,7,2,4,8]},\"selected\":{\"id\":\"1966\"},\"selection_policy\":{\"id\":\"1965\"}},\"id\":\"1912\",\"type\":\"ColumnDataSource\"},{\"attributes\":{},\"id\":\"1903\",\"type\":\"HelpTool\"}],\"root_ids\":[\"1879\"]},\"title\":\"Bokeh Application\",\"version\":\"2.4.1\"}};\n",
       "  const render_items = [{\"docid\":\"981e0e40-d28a-4ee0-9fd2-61cfb2ca954c\",\"root_ids\":[\"1879\"],\"roots\":{\"1879\":\"0a5bc538-0d6e-49d0-ba89-0ad03b3d2152\"}}];\n",
       "  root.Bokeh.embed.embed_items_notebook(docs_json, render_items);\n",
       "\n",
       "  }\n",
       "  if (root.Bokeh !== undefined) {\n",
       "    embed_document(root);\n",
       "  } else {\n",
       "    let attempts = 0;\n",
       "    const timer = setInterval(function(root) {\n",
       "      if (root.Bokeh !== undefined) {\n",
       "        clearInterval(timer);\n",
       "        embed_document(root);\n",
       "      } else {\n",
       "        attempts++;\n",
       "        if (attempts > 100) {\n",
       "          clearInterval(timer);\n",
       "          console.log(\"Bokeh: ERROR: Unable to run BokehJS code because BokehJS library is missing\");\n",
       "        }\n",
       "      }\n",
       "    }, 10, root)\n",
       "  }\n",
       "})(window);"
      ],
      "application/vnd.bokehjs_exec.v0+json": ""
     },
     "metadata": {
      "application/vnd.bokehjs_exec.v0+json": {
       "id": "1879"
      }
     },
     "output_type": "display_data"
    }
   ],
   "source": [
    "p= figure(title='Bokeh plot', x_axis_label='X-axis', y_axis_label='Y-axis')\n",
    "p.circle(x,y, size=10, color='red', alpha=0.7)\n",
    "\n",
    "p.xaxis.bounds = (1, 5)  \n",
    "p.ygrid.grid_line_color = \"gray\"\n",
    "show(p)"
   ]
  },
  {
   "cell_type": "raw",
   "id": "c9df09bb",
   "metadata": {},
   "source": [
    "Q3. How can you customize the appearance of a Bokeh plot, including the axes, title, and legend?"
   ]
  },
  {
   "cell_type": "code",
   "execution_count": 17,
   "id": "46da9515",
   "metadata": {},
   "outputs": [
    {
     "data": {
      "text/html": [
       "\n",
       "\n",
       "\n",
       "\n",
       "\n",
       "\n",
       "  <div class=\"bk-root\" id=\"00a5568d-20eb-460b-9466-14a87494f2bc\" data-root-id=\"2353\"></div>\n"
      ]
     },
     "metadata": {},
     "output_type": "display_data"
    },
    {
     "data": {
      "application/javascript": [
       "(function(root) {\n",
       "  function embed_document(root) {\n",
       "    \n",
       "  const docs_json = {\"d52de9fd-9919-418e-a0ac-7a40279e6612\":{\"defs\":[],\"roots\":{\"references\":[{\"attributes\":{\"below\":[{\"id\":\"2364\"}],\"center\":[{\"id\":\"2367\"},{\"id\":\"2371\"},{\"id\":\"2402\"}],\"left\":[{\"id\":\"2368\"}],\"renderers\":[{\"id\":\"2390\"}],\"title\":{\"id\":\"2354\"},\"toolbar\":{\"id\":\"2379\"},\"x_range\":{\"id\":\"2356\"},\"x_scale\":{\"id\":\"2360\"},\"y_range\":{\"id\":\"2358\"},\"y_scale\":{\"id\":\"2362\"}},\"id\":\"2353\",\"subtype\":\"Figure\",\"type\":\"Plot\"},{\"attributes\":{\"coordinates\":null,\"group\":null,\"items\":[{\"id\":\"2403\"}]},\"id\":\"2402\",\"type\":\"Legend\"},{\"attributes\":{\"fill_alpha\":{\"value\":0.2},\"fill_color\":{\"value\":\"red\"},\"hatch_alpha\":{\"value\":0.2},\"line_alpha\":{\"value\":0.2},\"line_color\":{\"value\":\"#1f77b4\"},\"size\":{\"value\":20},\"x\":{\"field\":\"x\"},\"y\":{\"field\":\"y\"}},\"id\":\"2389\",\"type\":\"Scatter\"},{\"attributes\":{\"coordinates\":null,\"group\":null,\"text\":\"line graph\"},\"id\":\"2354\",\"type\":\"Title\"},{\"attributes\":{},\"id\":\"2399\",\"type\":\"UnionRenderers\"},{\"attributes\":{},\"id\":\"2362\",\"type\":\"LinearScale\"},{\"attributes\":{},\"id\":\"2365\",\"type\":\"BasicTicker\"},{\"attributes\":{},\"id\":\"2400\",\"type\":\"Selection\"},{\"attributes\":{},\"id\":\"2356\",\"type\":\"DataRange1d\"},{\"attributes\":{\"axis_label\":\"y-axis\",\"coordinates\":null,\"formatter\":{\"id\":\"2394\"},\"group\":null,\"major_label_policy\":{\"id\":\"2395\"},\"ticker\":{\"id\":\"2369\"}},\"id\":\"2368\",\"type\":\"LinearAxis\"},{\"attributes\":{\"data\":{\"x\":[1,2,3,4,5],\"y\":[6,7,2,4,8]},\"selected\":{\"id\":\"2400\"},\"selection_policy\":{\"id\":\"2399\"}},\"id\":\"2386\",\"type\":\"ColumnDataSource\"},{\"attributes\":{\"axis\":{\"id\":\"2364\"},\"coordinates\":null,\"group\":null,\"ticker\":null},\"id\":\"2367\",\"type\":\"Grid\"},{\"attributes\":{\"tools\":[{\"id\":\"2372\"},{\"id\":\"2373\"},{\"id\":\"2374\"},{\"id\":\"2375\"},{\"id\":\"2376\"},{\"id\":\"2377\"}]},\"id\":\"2379\",\"type\":\"Toolbar\"},{\"attributes\":{},\"id\":\"2360\",\"type\":\"LinearScale\"},{\"attributes\":{\"axis_label\":\"x-axis\",\"coordinates\":null,\"formatter\":{\"id\":\"2397\"},\"group\":null,\"major_label_policy\":{\"id\":\"2398\"},\"ticker\":{\"id\":\"2365\"}},\"id\":\"2364\",\"type\":\"LinearAxis\"},{\"attributes\":{\"bottom_units\":\"screen\",\"coordinates\":null,\"fill_alpha\":0.5,\"fill_color\":\"lightgrey\",\"group\":null,\"left_units\":\"screen\",\"level\":\"overlay\",\"line_alpha\":1.0,\"line_color\":\"black\",\"line_dash\":[4,4],\"line_width\":2,\"right_units\":\"screen\",\"syncable\":false,\"top_units\":\"screen\"},\"id\":\"2378\",\"type\":\"BoxAnnotation\"},{\"attributes\":{\"source\":{\"id\":\"2386\"}},\"id\":\"2391\",\"type\":\"CDSView\"},{\"attributes\":{},\"id\":\"2358\",\"type\":\"DataRange1d\"},{\"attributes\":{\"coordinates\":null,\"data_source\":{\"id\":\"2386\"},\"glyph\":{\"id\":\"2387\"},\"group\":null,\"hover_glyph\":null,\"muted_glyph\":{\"id\":\"2389\"},\"nonselection_glyph\":{\"id\":\"2388\"},\"view\":{\"id\":\"2391\"}},\"id\":\"2390\",\"type\":\"GlyphRenderer\"},{\"attributes\":{},\"id\":\"2375\",\"type\":\"SaveTool\"},{\"attributes\":{},\"id\":\"2376\",\"type\":\"ResetTool\"},{\"attributes\":{\"overlay\":{\"id\":\"2378\"}},\"id\":\"2374\",\"type\":\"BoxZoomTool\"},{\"attributes\":{},\"id\":\"2372\",\"type\":\"PanTool\"},{\"attributes\":{},\"id\":\"2373\",\"type\":\"WheelZoomTool\"},{\"attributes\":{},\"id\":\"2369\",\"type\":\"BasicTicker\"},{\"attributes\":{\"fill_alpha\":{\"value\":0.1},\"fill_color\":{\"value\":\"red\"},\"hatch_alpha\":{\"value\":0.1},\"line_alpha\":{\"value\":0.1},\"line_color\":{\"value\":\"#1f77b4\"},\"size\":{\"value\":20},\"x\":{\"field\":\"x\"},\"y\":{\"field\":\"y\"}},\"id\":\"2388\",\"type\":\"Scatter\"},{\"attributes\":{},\"id\":\"2394\",\"type\":\"BasicTickFormatter\"},{\"attributes\":{\"axis\":{\"id\":\"2368\"},\"coordinates\":null,\"dimension\":1,\"group\":null,\"ticker\":null},\"id\":\"2371\",\"type\":\"Grid\"},{\"attributes\":{},\"id\":\"2395\",\"type\":\"AllLabels\"},{\"attributes\":{\"label\":{\"value\":\"red points\"},\"renderers\":[{\"id\":\"2390\"}]},\"id\":\"2403\",\"type\":\"LegendItem\"},{\"attributes\":{},\"id\":\"2377\",\"type\":\"HelpTool\"},{\"attributes\":{},\"id\":\"2397\",\"type\":\"BasicTickFormatter\"},{\"attributes\":{},\"id\":\"2398\",\"type\":\"AllLabels\"},{\"attributes\":{\"fill_color\":{\"value\":\"red\"},\"line_color\":{\"value\":\"#1f77b4\"},\"size\":{\"value\":20},\"x\":{\"field\":\"x\"},\"y\":{\"field\":\"y\"}},\"id\":\"2387\",\"type\":\"Scatter\"}],\"root_ids\":[\"2353\"]},\"title\":\"Bokeh Application\",\"version\":\"2.4.1\"}};\n",
       "  const render_items = [{\"docid\":\"d52de9fd-9919-418e-a0ac-7a40279e6612\",\"root_ids\":[\"2353\"],\"roots\":{\"2353\":\"00a5568d-20eb-460b-9466-14a87494f2bc\"}}];\n",
       "  root.Bokeh.embed.embed_items_notebook(docs_json, render_items);\n",
       "\n",
       "  }\n",
       "  if (root.Bokeh !== undefined) {\n",
       "    embed_document(root);\n",
       "  } else {\n",
       "    let attempts = 0;\n",
       "    const timer = setInterval(function(root) {\n",
       "      if (root.Bokeh !== undefined) {\n",
       "        clearInterval(timer);\n",
       "        embed_document(root);\n",
       "      } else {\n",
       "        attempts++;\n",
       "        if (attempts > 100) {\n",
       "          clearInterval(timer);\n",
       "          console.log(\"Bokeh: ERROR: Unable to run BokehJS code because BokehJS library is missing\");\n",
       "        }\n",
       "      }\n",
       "    }, 10, root)\n",
       "  }\n",
       "})(window);"
      ],
      "application/vnd.bokehjs_exec.v0+json": ""
     },
     "metadata": {
      "application/vnd.bokehjs_exec.v0+json": {
       "id": "2353"
      }
     },
     "output_type": "display_data"
    }
   ],
   "source": [
    "# We can use follow functions, legends, title, axes:\n",
    "p = figure(title='line graph')\n",
    "p.xaxis.axis_label = 'x-axis'\n",
    "p.yaxis.axis_label = 'y-axis'\n",
    "p.scatter(x,y, fill_color = 'red', legend_label = 'red points', size=20)\n",
    "show(p)"
   ]
  },
  {
   "cell_type": "raw",
   "id": "932e292d",
   "metadata": {},
   "source": [
    "Q4. What is a Bokeh server, and how can you use it to create interactive plots that can be updated in\n",
    "real time?"
   ]
  },
  {
   "cell_type": "code",
   "execution_count": 37,
   "id": "78b180d2",
   "metadata": {},
   "outputs": [],
   "source": [
    "from bokeh.io import curdoc\n",
    "from bokeh.layouts import column\n",
    "from bokeh.models import ColumnDataSource, Slider\n",
    "from bokeh.plotting import figure\n",
    "\n",
    "# Define the data source\n",
    "source = ColumnDataSource(data=dict(x=[1, 2, 3], y=[1, 4, 9]))\n",
    "\n",
    "# Define the plot\n",
    "plot = figure(title='Interactive Plot', x_axis_label='X', y_axis_label='Y')\n",
    "plot.line('x', 'y', source=source, line_width=2)\n",
    "\n",
    "# Define the slider widget\n",
    "slider = Slider(title='Power', value=1, start=0.1, end=5, step=0.1)\n",
    "\n",
    "# Define the callback function\n",
    "def update_data(attrname, old, new):\n",
    "    new_y = [x**slider.value for x in source.data['x']]\n",
    "    source.data = dict(x=source.data['x'], y=new_y)\n",
    "\n",
    "slider.on_change('value', update_data)\n",
    "\n",
    "# Combine the plot and slider into a layout\n",
    "layout = column(plot, slider)\n",
    "\n",
    "# Add the layout to the current document\n",
    "curdoc().add_root(layout)"
   ]
  },
  {
   "cell_type": "raw",
   "id": "e4bd8de8",
   "metadata": {},
   "source": [
    "Q5. How can you embed a Bokeh plot into a web page or dashboard using Flask or Django?"
   ]
  },
  {
   "cell_type": "code",
   "execution_count": 38,
   "id": "d0469cef",
   "metadata": {},
   "outputs": [
    {
     "name": "stdout",
     "output_type": "stream",
     "text": [
      " * Serving Flask app \"__main__\" (lazy loading)\n",
      " * Environment: production\n",
      "\u001b[31m   WARNING: This is a development server. Do not use it in a production deployment.\u001b[0m\n",
      "\u001b[2m   Use a production WSGI server instead.\u001b[0m\n",
      " * Debug mode: off\n"
     ]
    },
    {
     "name": "stderr",
     "output_type": "stream",
     "text": [
      " * Running on http://127.0.0.1:5000/ (Press CTRL+C to quit)\n"
     ]
    }
   ],
   "source": [
    "from flask import Flask, render_template\n",
    "from bokeh.embed import components\n",
    "from bokeh.plotting import figure\n",
    "from bokeh.resources import CDN\n",
    "\n",
    "app = Flask(__name__)\n",
    "\n",
    "@app.route('/')\n",
    "def index():\n",
    "    # Create the plot\n",
    "    plot = figure(title='My Plot', x_axis_label='X', y_axis_label='Y')\n",
    "    plot.line([1, 2, 3], [1, 4, 9])\n",
    "\n",
    "    # Generate the HTML components\n",
    "    script, div = components(plot)\n",
    "\n",
    "    # Render the template with the plot components\n",
    "    return render_template('index.html', script=script, div=div, cdn_js=CDN.js_files[0], cdn_css=CDN.css_files[0])\n",
    "\n",
    "if __name__ == '__main__':\n",
    "    app.run()\n"
   ]
  },
  {
   "cell_type": "code",
   "execution_count": null,
   "id": "f78aa219",
   "metadata": {},
   "outputs": [],
   "source": []
  }
 ],
 "metadata": {
  "kernelspec": {
   "display_name": "Python 3 (ipykernel)",
   "language": "python",
   "name": "python3"
  },
  "language_info": {
   "codemirror_mode": {
    "name": "ipython",
    "version": 3
   },
   "file_extension": ".py",
   "mimetype": "text/x-python",
   "name": "python",
   "nbconvert_exporter": "python",
   "pygments_lexer": "ipython3",
   "version": "3.9.7"
  }
 },
 "nbformat": 4,
 "nbformat_minor": 5
}

{
 "cells": [
  {
   "cell_type": "raw",
   "id": "645a1702",
   "metadata": {},
   "source": [
    "Q1. What is Abstraction in OOps? Explain with an example."
   ]
  },
  {
   "cell_type": "raw",
   "id": "57ea4b75",
   "metadata": {},
   "source": [
    "Abstraction is one of the fundamental concepts in object-oriented programming (OOP). It refers to the process of simplifying complex reality by modeling classes based on real-world entities and focusing on the essential properties and behaviors of those entities while hiding unnecessary details."
   ]
  },
  {
   "cell_type": "code",
   "execution_count": 1,
   "id": "8aafe8eb",
   "metadata": {},
   "outputs": [],
   "source": [
    "class animal:\n",
    "    \n",
    "    def __init__(self, name):\n",
    "        self.name = name\n",
    "        \n",
    "    def speak(self):\n",
    "        pass\n",
    "\n",
    "class dog(animal):\n",
    "    def speak(self):\n",
    "        return f'{self.name} says woof!'\n",
    "    \n",
    "class cat(animal):\n",
    "    def speak(self):\n",
    "        return f'{self.name} says meow!'\n"
   ]
  },
  {
   "cell_type": "code",
   "execution_count": 2,
   "id": "76796722",
   "metadata": {},
   "outputs": [],
   "source": [
    "dog = dog('sheru')"
   ]
  },
  {
   "cell_type": "code",
   "execution_count": 3,
   "id": "b32c5744",
   "metadata": {},
   "outputs": [
    {
     "data": {
      "text/plain": [
       "'sheru says woof!'"
      ]
     },
     "execution_count": 3,
     "metadata": {},
     "output_type": "execute_result"
    }
   ],
   "source": [
    "dog.speak()"
   ]
  },
  {
   "cell_type": "raw",
   "id": "28697fb7",
   "metadata": {},
   "source": [
    "Q2. Differentiate between Abstraction and Encapsulation. Explain with an example."
   ]
  },
  {
   "cell_type": "raw",
   "id": "732d7f8b",
   "metadata": {},
   "source": [
    "Abstraction is the process of simplifying complex reality by modeling classes based on real-world entities while hiding unnecessary details. It focuses on what an object does rather than how it does it.  Whereas,\n",
    " \n",
    "Encapsulation is the bundling of data (attributes) and methods (functions) that operate on that data into a single unit known as a class. It restricts direct access to some of an object's components and prevents unintended interference"
   ]
  },
  {
   "cell_type": "code",
   "execution_count": 5,
   "id": "b03e7ac2",
   "metadata": {},
   "outputs": [],
   "source": [
    "class cars:\n",
    "    def __init__(self,make,model):\n",
    "        self.make = make\n",
    "        self.model = model\n",
    "        self.speed = 0\n",
    "        \n",
    "    def accelerate(self, amount):\n",
    "        self.speed += amount\n",
    "        \n",
    "    def brake(self, amount):\n",
    "        self.speed -= amount"
   ]
  },
  {
   "cell_type": "code",
   "execution_count": 6,
   "id": "e19e6e00",
   "metadata": {},
   "outputs": [],
   "source": [
    "my_car = cars('Toyota','Fortuner')"
   ]
  },
  {
   "cell_type": "code",
   "execution_count": 7,
   "id": "88b3a982",
   "metadata": {},
   "outputs": [],
   "source": [
    "my_car.accelerate(20)"
   ]
  },
  {
   "cell_type": "code",
   "execution_count": 9,
   "id": "b4b71162",
   "metadata": {},
   "outputs": [
    {
     "data": {
      "text/plain": [
       "'Toyota'"
      ]
     },
     "execution_count": 9,
     "metadata": {},
     "output_type": "execute_result"
    }
   ],
   "source": [
    "my_car.make"
   ]
  },
  {
   "cell_type": "raw",
   "id": "ef14a30f",
   "metadata": {},
   "source": [
    "Q3. What is abc module in python? Why is it used?"
   ]
  },
  {
   "cell_type": "raw",
   "id": "a6b5961a",
   "metadata": {},
   "source": [
    "The 'abc' module in Python stands for \"Abstract Base Classes.\" It is a built-in module in Python that provides a framework for defining abstract base classes. Abstract base classes are classes that cannot be instantiated directly but serve as a template for other classes to inherit from. The primary purpose of the abc module is to enforce a certain structure or set of methods that subclasses must implement, promoting code consistency and ensuring that specific methods are present in derived classes"
   ]
  },
  {
   "cell_type": "raw",
   "id": "2f20ba61",
   "metadata": {},
   "source": [
    "Q4. How can we achieve data abstraction?"
   ]
  },
  {
   "cell_type": "raw",
   "id": "26cc84e5",
   "metadata": {},
   "source": [
    "we can acheive data abstraction using:- \n",
    "Uses of classes and objects.\n",
    "Encapsulation.\n",
    "Access control.\n",
    "Abstract classes and methods.\n",
    "Interface Implementation."
   ]
  },
  {
   "cell_type": "raw",
   "id": "35acb7e4",
   "metadata": {},
   "source": [
    "Q5. Can we create an instance of an abstract class? Explain your answer."
   ]
  },
  {
   "cell_type": "raw",
   "id": "39717922",
   "metadata": {},
   "source": [
    "In Python, you can create an abstract class using the abc module and the @abstractmethod decorator. An abstract method is declared within an abstract class using the @abstractmethod decorator, and it lacks a concrete implementation in the abstract class itself."
   ]
  },
  {
   "cell_type": "code",
   "execution_count": null,
   "id": "66ab88d0",
   "metadata": {},
   "outputs": [],
   "source": []
  },
  {
   "cell_type": "code",
   "execution_count": null,
   "id": "83a124af",
   "metadata": {},
   "outputs": [],
   "source": []
  }
 ],
 "metadata": {
  "kernelspec": {
   "display_name": "Python 3 (ipykernel)",
   "language": "python",
   "name": "python3"
  },
  "language_info": {
   "codemirror_mode": {
    "name": "ipython",
    "version": 3
   },
   "file_extension": ".py",
   "mimetype": "text/x-python",
   "name": "python",
   "nbconvert_exporter": "python",
   "pygments_lexer": "ipython3",
   "version": "3.9.7"
  }
 },
 "nbformat": 4,
 "nbformat_minor": 5
}

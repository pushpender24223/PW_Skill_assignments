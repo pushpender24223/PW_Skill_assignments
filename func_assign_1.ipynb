{
 "cells": [
  {
   "cell_type": "raw",
   "id": "e3507bf7",
   "metadata": {},
   "source": [
    "Q1. Which keyword is used to create a function? Create a function to return a list of odd numbers in the range of 1 to 25."
   ]
  },
  {
   "cell_type": "code",
   "execution_count": 10,
   "id": "38764391",
   "metadata": {},
   "outputs": [],
   "source": [
    "# Def is used to create a function.\n",
    "def odd_no(x):\n",
    "    l=[]\n",
    "    for var in range(25):\n",
    "        if var%2==0:\n",
    "            l.append(var)\n",
    "    return l"
   ]
  },
  {
   "cell_type": "code",
   "execution_count": 12,
   "id": "7562c1c7",
   "metadata": {},
   "outputs": [
    {
     "data": {
      "text/plain": [
       "[0, 2, 4, 6, 8, 10, 12, 14, 16, 18, 20, 22, 24]"
      ]
     },
     "execution_count": 12,
     "metadata": {},
     "output_type": "execute_result"
    }
   ],
   "source": [
    "odd_no(l)"
   ]
  },
  {
   "cell_type": "raw",
   "id": "8362bbad",
   "metadata": {},
   "source": [
    "Q2. Why *args and **kwargs is used in some functions? Create a function each for *args and **kwargs \n",
    "to demonstrate their use"
   ]
  },
  {
   "cell_type": "raw",
   "id": "ac8acea5",
   "metadata": {},
   "source": [
    "*args and **kwargs used in some functions allow for a variable number of arguments to be passed to the function. This can be useful in situations where you don't know how many arguments the function will be called with, or where you want to allow the user to pass in an arbitrary number of arguments.\n",
    "\n",
    "whereas the output in *args is tuple and in *kwargs is dictionary."
   ]
  },
  {
   "cell_type": "code",
   "execution_count": 13,
   "id": "2d594366",
   "metadata": {},
   "outputs": [],
   "source": [
    "def ex_args(*args):\n",
    "    return args"
   ]
  },
  {
   "cell_type": "code",
   "execution_count": 16,
   "id": "fe407131",
   "metadata": {},
   "outputs": [
    {
     "data": {
      "text/plain": [
       "(1, 2, 4, 5, 5, 6)"
      ]
     },
     "execution_count": 16,
     "metadata": {},
     "output_type": "execute_result"
    }
   ],
   "source": [
    "ex_args(1, 2, 4, 5, 5, 6)"
   ]
  },
  {
   "cell_type": "code",
   "execution_count": 15,
   "id": "c44ff478",
   "metadata": {},
   "outputs": [],
   "source": [
    "def ex_kwarg(**kwargs):\n",
    "    return kwargs"
   ]
  },
  {
   "cell_type": "code",
   "execution_count": 17,
   "id": "a1ae8410",
   "metadata": {},
   "outputs": [
    {
     "data": {
      "text/plain": [
       "{'a': [1, 2, 3, 4, 5], 'b': 'monu', 'c': 24.35}"
      ]
     },
     "execution_count": 17,
     "metadata": {},
     "output_type": "execute_result"
    }
   ],
   "source": [
    "ex_kwarg(a=[1,2,3,4,5], b='monu', c=24.35)"
   ]
  },
  {
   "cell_type": "raw",
   "id": "f752863d",
   "metadata": {},
   "source": [
    "Q3.  What is an iterator in python? Name the method used to initialise the iterator object and the method used for iteration. Use these methods to print the first five elements of the given list \n",
    "[2, 4, 6, 8, 10, 12, 14, 16, 18, 20]"
   ]
  },
  {
   "cell_type": "raw",
   "id": "4ab3898a",
   "metadata": {},
   "source": [
    " => an iterator is an object that allows you to iterate (loop) through a collection of elements such       as a list, tuple, dictionary, etc.\n",
    " => Iterators are commonly used with the 'for' loop to go through each element of a collection."
   ]
  },
  {
   "cell_type": "code",
   "execution_count": 18,
   "id": "cee9439e",
   "metadata": {},
   "outputs": [],
   "source": [
    "my_list = [2, 4, 6, 8, 10, 12, 14, 16, 18, 20]"
   ]
  },
  {
   "cell_type": "code",
   "execution_count": 19,
   "id": "2a009339",
   "metadata": {},
   "outputs": [
    {
     "name": "stdout",
     "output_type": "stream",
     "text": [
      "2\n",
      "4\n",
      "6\n",
      "8\n",
      "10\n"
     ]
    }
   ],
   "source": [
    "for var in my_list[:5]:\n",
    "    print(var)"
   ]
  },
  {
   "cell_type": "raw",
   "id": "aafb7671",
   "metadata": {},
   "source": [
    "Q4.  What is a generator function in python? Why yield keyword is used? Give an example of a generator \n",
    "function"
   ]
  },
  {
   "cell_type": "raw",
   "id": "8ff8c7f1",
   "metadata": {},
   "source": [
    "=> Generator functions are useful for generating large sequences of values, without having to store all of the values in memory at once.\n",
    "they are particularly used when we are dealing with the large data sets.\n",
    "\n",
    "=>The yield keyword is used within a generator function to pause the execution of the function and \"yield\" a value to the caller. When the generator function is later called again, it resumes execution from where it was paused."
   ]
  },
  {
   "cell_type": "code",
   "execution_count": 29,
   "id": "601814d2",
   "metadata": {},
   "outputs": [],
   "source": [
    "#example of generator function that generate even numbers under limit x.\n",
    "def even_num(x):\n",
    "    n=0\n",
    "    while n<x:\n",
    "        yield n\n",
    "        n = n+2"
   ]
  },
  {
   "cell_type": "code",
   "execution_count": 30,
   "id": "d9858101",
   "metadata": {},
   "outputs": [
    {
     "name": "stdout",
     "output_type": "stream",
     "text": [
      "0\n",
      "2\n",
      "4\n",
      "6\n",
      "8\n",
      "10\n",
      "12\n",
      "14\n",
      "16\n",
      "18\n"
     ]
    }
   ],
   "source": [
    "for var in even_num(20):\n",
    "    print(var)"
   ]
  },
  {
   "cell_type": "code",
   "execution_count": null,
   "id": "d66815ae",
   "metadata": {},
   "outputs": [],
   "source": [
    "Q5. Create a generator function for prime numbers less than 1000. Use the next() method to print the \n",
    "first 20 prime numbers."
   ]
  },
  {
   "cell_type": "code",
   "execution_count": 34,
   "id": "5e8347fa",
   "metadata": {},
   "outputs": [],
   "source": [
    "def prime_num(x):\n",
    "    if x <=1:\n",
    "        return False\n",
    "    elif x<=3:\n",
    "        return True\n",
    "    elif x%2==0 or x%3==0:\n",
    "        return False\n",
    "    i = 5\n",
    "    while i*i <= x:\n",
    "        if x%i==0 or x%(i+2)==0:\n",
    "            return False\n",
    "        i = i+6\n",
    "    return True\n",
    "\n",
    "def prime_generator(limit):\n",
    "    num = 2\n",
    "    count = 0\n",
    "    while count < limit:\n",
    "        if prime_num(num):\n",
    "            yield num\n",
    "            count += 1\n",
    "        num += 1"
   ]
  },
  {
   "cell_type": "code",
   "execution_count": 35,
   "id": "a927a699",
   "metadata": {},
   "outputs": [],
   "source": [
    "prime_iter = prime_generator(20)"
   ]
  },
  {
   "cell_type": "code",
   "execution_count": 36,
   "id": "956dcc55",
   "metadata": {},
   "outputs": [
    {
     "name": "stdout",
     "output_type": "stream",
     "text": [
      "2\n",
      "3\n",
      "5\n",
      "7\n",
      "11\n",
      "13\n",
      "17\n",
      "19\n",
      "23\n",
      "29\n",
      "31\n",
      "37\n",
      "41\n",
      "43\n",
      "47\n",
      "53\n",
      "59\n",
      "61\n",
      "67\n",
      "71\n"
     ]
    }
   ],
   "source": [
    "for _ in range(20):\n",
    "    prime = next(prime_iter)\n",
    "    print(prime)"
   ]
  },
  {
   "cell_type": "raw",
   "id": "2445eac7",
   "metadata": {},
   "source": [
    "Q6. Write a python program to print the first 10 Fibonacci numbers using a while loop."
   ]
  },
  {
   "cell_type": "code",
   "execution_count": 37,
   "id": "ea2e84a2",
   "metadata": {},
   "outputs": [],
   "source": [
    "def fib_num():\n",
    "    a,b=0,1\n",
    "    while True:\n",
    "        yield a\n",
    "        a,b=b,a+b"
   ]
  },
  {
   "cell_type": "code",
   "execution_count": 38,
   "id": "3642ead1",
   "metadata": {},
   "outputs": [],
   "source": [
    "fib = fib_num()"
   ]
  },
  {
   "cell_type": "code",
   "execution_count": 39,
   "id": "e666c3a4",
   "metadata": {},
   "outputs": [
    {
     "name": "stdout",
     "output_type": "stream",
     "text": [
      "0\n",
      "1\n",
      "1\n",
      "2\n",
      "3\n",
      "5\n",
      "8\n",
      "13\n",
      "21\n",
      "34\n"
     ]
    }
   ],
   "source": [
    "for var in range(10):\n",
    "    print(next(fib))"
   ]
  },
  {
   "cell_type": "raw",
   "id": "b465957f",
   "metadata": {},
   "source": [
    "Q7. Write a List Comprehension to iterate through the given string: ‘pwskills’.\n",
    "Expected output: ['p', 'w', 's', 'k', 'i', 'l', 'l', 's'] "
   ]
  },
  {
   "cell_type": "code",
   "execution_count": 40,
   "id": "a771d713",
   "metadata": {},
   "outputs": [],
   "source": [
    "s = 'pwskills' "
   ]
  },
  {
   "cell_type": "code",
   "execution_count": 45,
   "id": "3b658ef8",
   "metadata": {},
   "outputs": [
    {
     "data": {
      "text/plain": [
       "['p', 'w', 's', 'k', 'i', 'l', 'l', 's']"
      ]
     },
     "execution_count": 45,
     "metadata": {},
     "output_type": "execute_result"
    }
   ],
   "source": [
    "[var for var in s]"
   ]
  },
  {
   "cell_type": "raw",
   "id": "9a990501",
   "metadata": {},
   "source": [
    "Q8. Write a python program to check whether a given number is Palindrome or not using a while loop"
   ]
  },
  {
   "cell_type": "code",
   "execution_count": 47,
   "id": "512f094d",
   "metadata": {},
   "outputs": [
    {
     "name": "stdout",
     "output_type": "stream",
     "text": [
      "Enter a number: 16461\n",
      "16461 is a palindrome.\n"
     ]
    }
   ],
   "source": [
    "def palindrome_num(x):\n",
    "    orig_num=x\n",
    "    revers_num=0\n",
    "    \n",
    "    while x > 0:\n",
    "        digit = x%10\n",
    "        revers_num =revers_num * 10 + digit\n",
    "        x //= 10\n",
    "        \n",
    "    return orig_num == revers_num\n",
    "\n",
    "num = int(input(\"Enter a number: \"))\n",
    "\n",
    "if palindrome_num(num):\n",
    "    print(f\"{num} is a palindrome.\")\n",
    "else:\n",
    "    print(f\"{num} is not a palindrome.\")"
   ]
  },
  {
   "cell_type": "raw",
   "id": "24473612",
   "metadata": {},
   "source": [
    "Q9. Write a code to print odd numbers from 1 to 100 using list comprehension."
   ]
  },
  {
   "cell_type": "code",
   "execution_count": 51,
   "id": "a3f3a727",
   "metadata": {},
   "outputs": [],
   "source": [
    "l = [var for var in range(100)]"
   ]
  },
  {
   "cell_type": "code",
   "execution_count": 53,
   "id": "01466676",
   "metadata": {},
   "outputs": [],
   "source": [
    "even_num = [var for var in l if var%2==0]"
   ]
  },
  {
   "cell_type": "code",
   "execution_count": 55,
   "id": "b547c244",
   "metadata": {},
   "outputs": [
    {
     "name": "stdout",
     "output_type": "stream",
     "text": [
      "[0, 2, 4, 6, 8, 10, 12, 14, 16, 18, 20, 22, 24, 26, 28, 30, 32, 34, 36, 38, 40, 42, 44, 46, 48, 50, 52, 54, 56, 58, 60, 62, 64, 66, 68, 70, 72, 74, 76, 78, 80, 82, 84, 86, 88, 90, 92, 94, 96, 98]\n"
     ]
    }
   ],
   "source": [
    "print(even_num)"
   ]
  },
  {
   "cell_type": "code",
   "execution_count": null,
   "id": "b2dbd0f8",
   "metadata": {},
   "outputs": [],
   "source": []
  }
 ],
 "metadata": {
  "kernelspec": {
   "display_name": "Python 3 (ipykernel)",
   "language": "python",
   "name": "python3"
  },
  "language_info": {
   "codemirror_mode": {
    "name": "ipython",
    "version": 3
   },
   "file_extension": ".py",
   "mimetype": "text/x-python",
   "name": "python",
   "nbconvert_exporter": "python",
   "pygments_lexer": "ipython3",
   "version": "3.9.7"
  }
 },
 "nbformat": 4,
 "nbformat_minor": 5
}

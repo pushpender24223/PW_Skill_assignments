{
 "cells": [
  {
   "cell_type": "raw",
   "id": "68cdefb4",
   "metadata": {},
   "source": [
    "Q1. Explain Class and Object with respect to Object-Oriented Programming. Give a suitable example."
   ]
  },
  {
   "cell_type": "raw",
   "id": "382bcaa4",
   "metadata": {},
   "source": [
    "A class is a blueprint or template for creating objects. It defines the attributes and methods that objects of that class will have.\n",
    "\n",
    "An object is a concrete instantiation of a class. It represents a real-world entity or concept based on the attributes and behaviors defined in the class."
   ]
  },
  {
   "cell_type": "code",
   "execution_count": 1,
   "id": "d234fefb",
   "metadata": {},
   "outputs": [],
   "source": [
    "class pwskills:\n",
    "    \n",
    "    def __init__(self, name, age, course, email_id):\n",
    "        self.name = name\n",
    "        self.age = age\n",
    "        self.course = course\n",
    "        self.email_id = email_id\n",
    "        \n",
    "    def student_details(self):\n",
    "        print(self.name, self.age, self.course, self.email_id)"
   ]
  },
  {
   "cell_type": "code",
   "execution_count": 4,
   "id": "078a3b63",
   "metadata": {},
   "outputs": [],
   "source": [
    "std = pwskills('monu', 26, 'data science masters', 'monu@gmail.com')\n",
    "std1 = pwskills('deepak', 26, 'data science masters', 'deepak@gmail.com')"
   ]
  },
  {
   "cell_type": "code",
   "execution_count": 5,
   "id": "71e30630",
   "metadata": {},
   "outputs": [
    {
     "data": {
      "text/plain": [
       "'monu'"
      ]
     },
     "execution_count": 5,
     "metadata": {},
     "output_type": "execute_result"
    }
   ],
   "source": [
    "std.name"
   ]
  },
  {
   "cell_type": "code",
   "execution_count": 6,
   "id": "ffcab6c5",
   "metadata": {},
   "outputs": [
    {
     "name": "stdout",
     "output_type": "stream",
     "text": [
      "monu 26 data science masters monu@gmail.com\n"
     ]
    }
   ],
   "source": [
    "std.student_details()"
   ]
  },
  {
   "cell_type": "raw",
   "id": "348f6e3a",
   "metadata": {},
   "source": [
    "Q2. Name the four pillars of OOPs."
   ]
  },
  {
   "cell_type": "raw",
   "id": "f535e1ce",
   "metadata": {},
   "source": [
    "Encapsulation: Encapsulation refers to the bundling of data (attributes) and the methods (functions) that operate on the data into a single unit called a class. It restricts direct access to some of an object's components, allowing controlled and standardized access via methods. Encapsulation helps in hiding the internal details of how an object's data is structured and manipulated.\n",
    "\n",
    "Abstraction: Abstraction involves presenting only the essential features of an object while hiding the unnecessary details. It simplifies complex reality by modeling classes based on real-world entities and their behavior. Abstraction allows you to focus on what an object does rather than how it does it.\n",
    "\n",
    "Inheritance: Inheritance is a mechanism that allows a new class (subclass or derived class) to inherit properties and behaviors from an existing class (superclass or base class). It promotes code reusability and establishes a hierarchy of classes with shared characteristics and specialized features.\n",
    "\n",
    "Polymorphism: Polymorphism means \"many forms.\" It allows objects of different classes to be treated as objects of a common superclass. This is achieved through method overriding and method overloading. Polymorphism enables you to write more generic and flexible code that can work with different types of objects in a uniform way.\n"
   ]
  },
  {
   "cell_type": "raw",
   "id": "e2b08451",
   "metadata": {},
   "source": [
    "Q3. Explain why the __init__() function is used. Give a suitable example."
   ]
  },
  {
   "cell_type": "raw",
   "id": "28e08652",
   "metadata": {},
   "source": [
    "__init__() is the constructor. The init method is a special method in Python classes that is automatically called when a new instance of the class is created. It initializes the attributes of the object based on the values passed during object creation."
   ]
  },
  {
   "cell_type": "code",
   "execution_count": 8,
   "id": "8a439d70",
   "metadata": {},
   "outputs": [],
   "source": [
    "class car:\n",
    "    def __init__(self, make, model, year):\n",
    "        self.make = make\n",
    "        self.model = model\n",
    "        self.year = year\n",
    "        self.is_running = False\n",
    "        \n",
    "    def start(self):\n",
    "        self.is_running = True\n",
    "        print('Car engine is started')\n",
    "        \n",
    "    def stop(self):\n",
    "        self.is_running = False\n",
    "        print('Car engine is stopped')"
   ]
  },
  {
   "cell_type": "code",
   "execution_count": 9,
   "id": "0607db80",
   "metadata": {},
   "outputs": [],
   "source": [
    "car1 = car('honda', 'civic', 2018)\n",
    "car2 = car('maruti suzuki', 'dezire', 2017)"
   ]
  },
  {
   "cell_type": "code",
   "execution_count": 10,
   "id": "86331843",
   "metadata": {},
   "outputs": [
    {
     "data": {
      "text/plain": [
       "'honda'"
      ]
     },
     "execution_count": 10,
     "metadata": {},
     "output_type": "execute_result"
    }
   ],
   "source": [
    "car1.make"
   ]
  },
  {
   "cell_type": "code",
   "execution_count": 11,
   "id": "e539ee7f",
   "metadata": {},
   "outputs": [
    {
     "data": {
      "text/plain": [
       "'dezire'"
      ]
     },
     "execution_count": 11,
     "metadata": {},
     "output_type": "execute_result"
    }
   ],
   "source": [
    "car2.model"
   ]
  },
  {
   "cell_type": "code",
   "execution_count": 15,
   "id": "1cc62c02",
   "metadata": {},
   "outputs": [
    {
     "name": "stdout",
     "output_type": "stream",
     "text": [
      "Car engine is started\n"
     ]
    }
   ],
   "source": [
    "car1.start()"
   ]
  },
  {
   "cell_type": "raw",
   "id": "8e336284",
   "metadata": {},
   "source": [
    "Q4. Why self is used in OOPs?"
   ]
  },
  {
   "cell_type": "raw",
   "id": "31eed477",
   "metadata": {},
   "source": [
    "The self keyword is used to refer to the instance of the class that a method is operating on. It is a common convention in languages like Python, and it plays a crucial role in maintaining the integrity of the class structure and enabling object-oriented principles.\n",
    "\n",
    "# Methods in a class are invoked with the help of the 'self' parameter.\n",
    "# Using 'self' helps in distinguishing between different instances of the same class.\n",
    "# By using 'self', methods within a class can access the attributes (properties) of the object.\n",
    "# When a method is called on an object, the self parameter provides a reference to that specific instance of the class. This allows the method to access and manipulate the attributes and methods of that instance."
   ]
  },
  {
   "cell_type": "code",
   "execution_count": null,
   "id": "0825502d",
   "metadata": {},
   "outputs": [],
   "source": []
  },
  {
   "cell_type": "raw",
   "id": "5b74ebb6",
   "metadata": {},
   "source": [
    "Q5. What is inheritance? Give an example for each type of inheritance."
   ]
  },
  {
   "cell_type": "raw",
   "id": "f2459bce",
   "metadata": {},
   "source": [
    "Inheritance is a fundamental concept in object-oriented programming (OOP) that allows a new class \n",
    "(subclass or derived class) to inherit properties and behaviors from an existing class (superclass or \n",
    "base class). Inheritance promotes code reusability by enabling the creation of a new class that is \n",
    "based on an existing class, while allowing the new class to add or override certain features"
   ]
  },
  {
   "cell_type": "code",
   "execution_count": 16,
   "id": "10c3ebb5",
   "metadata": {},
   "outputs": [],
   "source": [
    "class test():\n",
    "    \n",
    "    def test_math(self):\n",
    "        return 'This is my first class'"
   ]
  },
  {
   "cell_type": "code",
   "execution_count": 17,
   "id": "c646efbe",
   "metadata": {},
   "outputs": [],
   "source": [
    "class child_test(test):\n",
    "    pass"
   ]
  },
  {
   "cell_type": "code",
   "execution_count": 18,
   "id": "2bee0fee",
   "metadata": {},
   "outputs": [],
   "source": [
    "child_test_obj = child_test()"
   ]
  },
  {
   "cell_type": "code",
   "execution_count": 19,
   "id": "d0216c01",
   "metadata": {},
   "outputs": [
    {
     "data": {
      "text/plain": [
       "'This is my first class'"
      ]
     },
     "execution_count": 19,
     "metadata": {},
     "output_type": "execute_result"
    }
   ],
   "source": [
    "child_test_obj.test_math()"
   ]
  },
  {
   "cell_type": "code",
   "execution_count": null,
   "id": "de02278e",
   "metadata": {},
   "outputs": [],
   "source": []
  }
 ],
 "metadata": {
  "kernelspec": {
   "display_name": "Python 3 (ipykernel)",
   "language": "python",
   "name": "python3"
  },
  "language_info": {
   "codemirror_mode": {
    "name": "ipython",
    "version": 3
   },
   "file_extension": ".py",
   "mimetype": "text/x-python",
   "name": "python",
   "nbconvert_exporter": "python",
   "pygments_lexer": "ipython3",
   "version": "3.9.7"
  }
 },
 "nbformat": 4,
 "nbformat_minor": 5
}

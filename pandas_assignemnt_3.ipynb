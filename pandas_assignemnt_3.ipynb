{
 "cells": [
  {
   "cell_type": "code",
   "execution_count": 1,
   "id": "37ffba19",
   "metadata": {},
   "outputs": [],
   "source": [
    "import pandas as pd"
   ]
  },
  {
   "cell_type": "raw",
   "id": "21ddaf52",
   "metadata": {},
   "source": [
    "Q1. Write a code to print the data present in the second row of the dataframe, df."
   ]
  },
  {
   "cell_type": "code",
   "execution_count": 7,
   "id": "b3aadff0",
   "metadata": {},
   "outputs": [],
   "source": [
    "course_name = ['Data Science', 'Machine Learning', 'Big Data', 'Data Engineer']\n",
    "\n",
    "duration =  [2,3,6,4]\n",
    "\n",
    "df = pd.DataFrame(data = {'course_name' : course_name, 'duration' : duration})"
   ]
  },
  {
   "cell_type": "code",
   "execution_count": 8,
   "id": "5554859b",
   "metadata": {},
   "outputs": [
    {
     "data": {
      "text/html": [
       "<div>\n",
       "<style scoped>\n",
       "    .dataframe tbody tr th:only-of-type {\n",
       "        vertical-align: middle;\n",
       "    }\n",
       "\n",
       "    .dataframe tbody tr th {\n",
       "        vertical-align: top;\n",
       "    }\n",
       "\n",
       "    .dataframe thead th {\n",
       "        text-align: right;\n",
       "    }\n",
       "</style>\n",
       "<table border=\"1\" class=\"dataframe\">\n",
       "  <thead>\n",
       "    <tr style=\"text-align: right;\">\n",
       "      <th></th>\n",
       "      <th>course_name</th>\n",
       "      <th>duration</th>\n",
       "    </tr>\n",
       "  </thead>\n",
       "  <tbody>\n",
       "    <tr>\n",
       "      <th>1</th>\n",
       "      <td>Machine Learning</td>\n",
       "      <td>3</td>\n",
       "    </tr>\n",
       "  </tbody>\n",
       "</table>\n",
       "</div>"
      ],
      "text/plain": [
       "        course_name  duration\n",
       "1  Machine Learning         3"
      ]
     },
     "execution_count": 8,
     "metadata": {},
     "output_type": "execute_result"
    }
   ],
   "source": [
    "df.iloc[1:2]"
   ]
  },
  {
   "cell_type": "raw",
   "id": "fb45ee85",
   "metadata": {},
   "source": [
    "Q2. What is the difference between the functions loc and iloc in pandas.DataFrame?"
   ]
  },
  {
   "cell_type": "raw",
   "id": "704201ca",
   "metadata": {},
   "source": [
    "df.loc[] takes column names, index, and also defined indexes while df.iloc[] takes only default indexes."
   ]
  },
  {
   "cell_type": "code",
   "execution_count": null,
   "id": "520b96e1",
   "metadata": {},
   "outputs": [],
   "source": []
  },
  {
   "cell_type": "raw",
   "id": "442f21a7",
   "metadata": {},
   "source": [
    "Q3. Reindex the given dataframe using a variable, reindex = [3,0,1,2] and store it in the variable, new_df then find the output for both new_df.loc[2] and new_df.iloc[2]."
   ]
  },
  {
   "cell_type": "code",
   "execution_count": 9,
   "id": "78c39c58",
   "metadata": {},
   "outputs": [],
   "source": [
    "new_df = df.reindex([3,0,1,2])"
   ]
  },
  {
   "cell_type": "code",
   "execution_count": 10,
   "id": "a6e1aa4c",
   "metadata": {},
   "outputs": [
    {
     "data": {
      "text/html": [
       "<div>\n",
       "<style scoped>\n",
       "    .dataframe tbody tr th:only-of-type {\n",
       "        vertical-align: middle;\n",
       "    }\n",
       "\n",
       "    .dataframe tbody tr th {\n",
       "        vertical-align: top;\n",
       "    }\n",
       "\n",
       "    .dataframe thead th {\n",
       "        text-align: right;\n",
       "    }\n",
       "</style>\n",
       "<table border=\"1\" class=\"dataframe\">\n",
       "  <thead>\n",
       "    <tr style=\"text-align: right;\">\n",
       "      <th></th>\n",
       "      <th>course_name</th>\n",
       "      <th>duration</th>\n",
       "    </tr>\n",
       "  </thead>\n",
       "  <tbody>\n",
       "    <tr>\n",
       "      <th>3</th>\n",
       "      <td>Data Engineer</td>\n",
       "      <td>4</td>\n",
       "    </tr>\n",
       "    <tr>\n",
       "      <th>0</th>\n",
       "      <td>Data Science</td>\n",
       "      <td>2</td>\n",
       "    </tr>\n",
       "    <tr>\n",
       "      <th>1</th>\n",
       "      <td>Machine Learning</td>\n",
       "      <td>3</td>\n",
       "    </tr>\n",
       "    <tr>\n",
       "      <th>2</th>\n",
       "      <td>Big Data</td>\n",
       "      <td>6</td>\n",
       "    </tr>\n",
       "  </tbody>\n",
       "</table>\n",
       "</div>"
      ],
      "text/plain": [
       "        course_name  duration\n",
       "3     Data Engineer         4\n",
       "0      Data Science         2\n",
       "1  Machine Learning         3\n",
       "2          Big Data         6"
      ]
     },
     "execution_count": 10,
     "metadata": {},
     "output_type": "execute_result"
    }
   ],
   "source": [
    "new_df"
   ]
  },
  {
   "cell_type": "code",
   "execution_count": 11,
   "id": "e23542df",
   "metadata": {},
   "outputs": [
    {
     "data": {
      "text/plain": [
       "course_name    Big Data\n",
       "duration              6\n",
       "Name: 2, dtype: object"
      ]
     },
     "execution_count": 11,
     "metadata": {},
     "output_type": "execute_result"
    }
   ],
   "source": [
    "new_df.loc[2]"
   ]
  },
  {
   "cell_type": "code",
   "execution_count": 12,
   "id": "698dc37b",
   "metadata": {},
   "outputs": [
    {
     "data": {
      "text/plain": [
       "course_name    Machine Learning\n",
       "duration                      3\n",
       "Name: 1, dtype: object"
      ]
     },
     "execution_count": 12,
     "metadata": {},
     "output_type": "execute_result"
    }
   ],
   "source": [
    "new_df.iloc[2]"
   ]
  },
  {
   "cell_type": "raw",
   "id": "d8b4d298",
   "metadata": {},
   "source": [
    "# Yes we observed a difference, that is new_df.loc[] takes defined index while new_df.iloc[] takes default index."
   ]
  },
  {
   "cell_type": "code",
   "execution_count": 13,
   "id": "55c1ff6a",
   "metadata": {},
   "outputs": [],
   "source": [
    "import numpy as np"
   ]
  },
  {
   "cell_type": "code",
   "execution_count": 15,
   "id": "f38f19d7",
   "metadata": {},
   "outputs": [],
   "source": [
    "columns = ['column_1', 'column_2', 'column_3', 'column_4', 'column_5', 'column_6']\n",
    "\n",
    "indices = [1,2,3,4,5,6]\n",
    "\n",
    "\n",
    "df1 = pd.DataFrame(np.random.rand(6,6), columns = columns, index = indices)"
   ]
  },
  {
   "cell_type": "code",
   "execution_count": 16,
   "id": "d40fffe8",
   "metadata": {},
   "outputs": [
    {
     "data": {
      "text/html": [
       "<div>\n",
       "<style scoped>\n",
       "    .dataframe tbody tr th:only-of-type {\n",
       "        vertical-align: middle;\n",
       "    }\n",
       "\n",
       "    .dataframe tbody tr th {\n",
       "        vertical-align: top;\n",
       "    }\n",
       "\n",
       "    .dataframe thead th {\n",
       "        text-align: right;\n",
       "    }\n",
       "</style>\n",
       "<table border=\"1\" class=\"dataframe\">\n",
       "  <thead>\n",
       "    <tr style=\"text-align: right;\">\n",
       "      <th></th>\n",
       "      <th>column_1</th>\n",
       "      <th>column_2</th>\n",
       "      <th>column_3</th>\n",
       "      <th>column_4</th>\n",
       "      <th>column_5</th>\n",
       "      <th>column_6</th>\n",
       "    </tr>\n",
       "  </thead>\n",
       "  <tbody>\n",
       "    <tr>\n",
       "      <th>1</th>\n",
       "      <td>0.025141</td>\n",
       "      <td>0.743886</td>\n",
       "      <td>0.344857</td>\n",
       "      <td>0.064953</td>\n",
       "      <td>0.286690</td>\n",
       "      <td>0.690238</td>\n",
       "    </tr>\n",
       "    <tr>\n",
       "      <th>2</th>\n",
       "      <td>0.097582</td>\n",
       "      <td>0.062508</td>\n",
       "      <td>0.213198</td>\n",
       "      <td>0.546682</td>\n",
       "      <td>0.181128</td>\n",
       "      <td>0.438410</td>\n",
       "    </tr>\n",
       "    <tr>\n",
       "      <th>3</th>\n",
       "      <td>0.213969</td>\n",
       "      <td>0.227302</td>\n",
       "      <td>0.370825</td>\n",
       "      <td>0.736212</td>\n",
       "      <td>0.527714</td>\n",
       "      <td>0.346375</td>\n",
       "    </tr>\n",
       "    <tr>\n",
       "      <th>4</th>\n",
       "      <td>0.935602</td>\n",
       "      <td>0.332369</td>\n",
       "      <td>0.578442</td>\n",
       "      <td>0.172361</td>\n",
       "      <td>0.960739</td>\n",
       "      <td>0.161566</td>\n",
       "    </tr>\n",
       "    <tr>\n",
       "      <th>5</th>\n",
       "      <td>0.911799</td>\n",
       "      <td>0.237404</td>\n",
       "      <td>0.279105</td>\n",
       "      <td>0.241149</td>\n",
       "      <td>0.290357</td>\n",
       "      <td>0.654931</td>\n",
       "    </tr>\n",
       "    <tr>\n",
       "      <th>6</th>\n",
       "      <td>0.559769</td>\n",
       "      <td>0.632335</td>\n",
       "      <td>0.069830</td>\n",
       "      <td>0.862875</td>\n",
       "      <td>0.258019</td>\n",
       "      <td>0.609358</td>\n",
       "    </tr>\n",
       "  </tbody>\n",
       "</table>\n",
       "</div>"
      ],
      "text/plain": [
       "   column_1  column_2  column_3  column_4  column_5  column_6\n",
       "1  0.025141  0.743886  0.344857  0.064953  0.286690  0.690238\n",
       "2  0.097582  0.062508  0.213198  0.546682  0.181128  0.438410\n",
       "3  0.213969  0.227302  0.370825  0.736212  0.527714  0.346375\n",
       "4  0.935602  0.332369  0.578442  0.172361  0.960739  0.161566\n",
       "5  0.911799  0.237404  0.279105  0.241149  0.290357  0.654931\n",
       "6  0.559769  0.632335  0.069830  0.862875  0.258019  0.609358"
      ]
     },
     "execution_count": 16,
     "metadata": {},
     "output_type": "execute_result"
    }
   ],
   "source": [
    "df1"
   ]
  },
  {
   "cell_type": "raw",
   "id": "633526ea",
   "metadata": {},
   "source": [
    "Q4. Write a code to find the following statistical measurements for the above dataframe df1:\n",
    "\n",
    "(i) mean of each and every column present in the dataframe.\n",
    "\n",
    "(ii) standard deviation of column, ‘column_2’\n"
   ]
  },
  {
   "cell_type": "code",
   "execution_count": 18,
   "id": "fdc46940",
   "metadata": {},
   "outputs": [
    {
     "data": {
      "text/plain": [
       "column_1    0.457310\n",
       "column_2    0.372634\n",
       "column_3    0.309376\n",
       "column_4    0.437372\n",
       "column_5    0.417441\n",
       "column_6    0.483480\n",
       "dtype: float64"
      ]
     },
     "execution_count": 18,
     "metadata": {},
     "output_type": "execute_result"
    }
   ],
   "source": [
    "df1.mean()"
   ]
  },
  {
   "cell_type": "code",
   "execution_count": 19,
   "id": "01f55471",
   "metadata": {},
   "outputs": [
    {
     "data": {
      "text/plain": [
       "0.26171732268741427"
      ]
     },
     "execution_count": 19,
     "metadata": {},
     "output_type": "execute_result"
    }
   ],
   "source": [
    "df1['column_2'].std()"
   ]
  },
  {
   "cell_type": "raw",
   "id": "ce33e787",
   "metadata": {},
   "source": [
    "Q5. Replace the data present in the second row of column, ‘column_2’ by a string variable then find the mean of column, column_2.\n",
    "\n",
    "If you are getting errors in executing it then explain why.\n",
    "\n",
    "[Hint: To replace the data use df1.loc[] and equate this to string data of your choice.]"
   ]
  },
  {
   "cell_type": "code",
   "execution_count": 22,
   "id": "4f3375ff",
   "metadata": {},
   "outputs": [],
   "source": [
    "df1.loc[1,'column_2'] = 'string_data'"
   ]
  },
  {
   "cell_type": "code",
   "execution_count": 25,
   "id": "90ab83cb",
   "metadata": {},
   "outputs": [
    {
     "ename": "TypeError",
     "evalue": "can only concatenate str (not \"float\") to str",
     "output_type": "error",
     "traceback": [
      "\u001b[1;31m---------------------------------------------------------------------------\u001b[0m",
      "\u001b[1;31mTypeError\u001b[0m                                 Traceback (most recent call last)",
      "\u001b[1;32mC:\\Users\\PUSHPE~1\\AppData\\Local\\Temp/ipykernel_23960/1115045791.py\u001b[0m in \u001b[0;36m<module>\u001b[1;34m\u001b[0m\n\u001b[1;32m----> 1\u001b[1;33m \u001b[0mdf1\u001b[0m\u001b[1;33m[\u001b[0m\u001b[1;34m'column_2'\u001b[0m\u001b[1;33m]\u001b[0m\u001b[1;33m.\u001b[0m\u001b[0mmean\u001b[0m\u001b[1;33m(\u001b[0m\u001b[1;33m)\u001b[0m\u001b[1;33m\u001b[0m\u001b[1;33m\u001b[0m\u001b[0m\n\u001b[0m",
      "\u001b[1;32m~\\anaconda3\\lib\\site-packages\\pandas\\core\\generic.py\u001b[0m in \u001b[0;36mmean\u001b[1;34m(self, axis, skipna, level, numeric_only, **kwargs)\u001b[0m\n\u001b[0;32m  10749\u001b[0m         )\n\u001b[0;32m  10750\u001b[0m         \u001b[1;32mdef\u001b[0m \u001b[0mmean\u001b[0m\u001b[1;33m(\u001b[0m\u001b[0mself\u001b[0m\u001b[1;33m,\u001b[0m \u001b[0maxis\u001b[0m\u001b[1;33m=\u001b[0m\u001b[1;32mNone\u001b[0m\u001b[1;33m,\u001b[0m \u001b[0mskipna\u001b[0m\u001b[1;33m=\u001b[0m\u001b[1;32mNone\u001b[0m\u001b[1;33m,\u001b[0m \u001b[0mlevel\u001b[0m\u001b[1;33m=\u001b[0m\u001b[1;32mNone\u001b[0m\u001b[1;33m,\u001b[0m \u001b[0mnumeric_only\u001b[0m\u001b[1;33m=\u001b[0m\u001b[1;32mNone\u001b[0m\u001b[1;33m,\u001b[0m \u001b[1;33m**\u001b[0m\u001b[0mkwargs\u001b[0m\u001b[1;33m)\u001b[0m\u001b[1;33m:\u001b[0m\u001b[1;33m\u001b[0m\u001b[1;33m\u001b[0m\u001b[0m\n\u001b[1;32m> 10751\u001b[1;33m             \u001b[1;32mreturn\u001b[0m \u001b[0mNDFrame\u001b[0m\u001b[1;33m.\u001b[0m\u001b[0mmean\u001b[0m\u001b[1;33m(\u001b[0m\u001b[0mself\u001b[0m\u001b[1;33m,\u001b[0m \u001b[0maxis\u001b[0m\u001b[1;33m,\u001b[0m \u001b[0mskipna\u001b[0m\u001b[1;33m,\u001b[0m \u001b[0mlevel\u001b[0m\u001b[1;33m,\u001b[0m \u001b[0mnumeric_only\u001b[0m\u001b[1;33m,\u001b[0m \u001b[1;33m**\u001b[0m\u001b[0mkwargs\u001b[0m\u001b[1;33m)\u001b[0m\u001b[1;33m\u001b[0m\u001b[1;33m\u001b[0m\u001b[0m\n\u001b[0m\u001b[0;32m  10752\u001b[0m \u001b[1;33m\u001b[0m\u001b[0m\n\u001b[0;32m  10753\u001b[0m         \u001b[0msetattr\u001b[0m\u001b[1;33m(\u001b[0m\u001b[0mcls\u001b[0m\u001b[1;33m,\u001b[0m \u001b[1;34m\"mean\"\u001b[0m\u001b[1;33m,\u001b[0m \u001b[0mmean\u001b[0m\u001b[1;33m)\u001b[0m\u001b[1;33m\u001b[0m\u001b[1;33m\u001b[0m\u001b[0m\n",
      "\u001b[1;32m~\\anaconda3\\lib\\site-packages\\pandas\\core\\generic.py\u001b[0m in \u001b[0;36mmean\u001b[1;34m(self, axis, skipna, level, numeric_only, **kwargs)\u001b[0m\n\u001b[0;32m  10367\u001b[0m \u001b[1;33m\u001b[0m\u001b[0m\n\u001b[0;32m  10368\u001b[0m     \u001b[1;32mdef\u001b[0m \u001b[0mmean\u001b[0m\u001b[1;33m(\u001b[0m\u001b[0mself\u001b[0m\u001b[1;33m,\u001b[0m \u001b[0maxis\u001b[0m\u001b[1;33m=\u001b[0m\u001b[1;32mNone\u001b[0m\u001b[1;33m,\u001b[0m \u001b[0mskipna\u001b[0m\u001b[1;33m=\u001b[0m\u001b[1;32mNone\u001b[0m\u001b[1;33m,\u001b[0m \u001b[0mlevel\u001b[0m\u001b[1;33m=\u001b[0m\u001b[1;32mNone\u001b[0m\u001b[1;33m,\u001b[0m \u001b[0mnumeric_only\u001b[0m\u001b[1;33m=\u001b[0m\u001b[1;32mNone\u001b[0m\u001b[1;33m,\u001b[0m \u001b[1;33m**\u001b[0m\u001b[0mkwargs\u001b[0m\u001b[1;33m)\u001b[0m\u001b[1;33m:\u001b[0m\u001b[1;33m\u001b[0m\u001b[1;33m\u001b[0m\u001b[0m\n\u001b[1;32m> 10369\u001b[1;33m         return self._stat_function(\n\u001b[0m\u001b[0;32m  10370\u001b[0m             \u001b[1;34m\"mean\"\u001b[0m\u001b[1;33m,\u001b[0m \u001b[0mnanops\u001b[0m\u001b[1;33m.\u001b[0m\u001b[0mnanmean\u001b[0m\u001b[1;33m,\u001b[0m \u001b[0maxis\u001b[0m\u001b[1;33m,\u001b[0m \u001b[0mskipna\u001b[0m\u001b[1;33m,\u001b[0m \u001b[0mlevel\u001b[0m\u001b[1;33m,\u001b[0m \u001b[0mnumeric_only\u001b[0m\u001b[1;33m,\u001b[0m \u001b[1;33m**\u001b[0m\u001b[0mkwargs\u001b[0m\u001b[1;33m\u001b[0m\u001b[1;33m\u001b[0m\u001b[0m\n\u001b[0;32m  10371\u001b[0m         )\n",
      "\u001b[1;32m~\\anaconda3\\lib\\site-packages\\pandas\\core\\generic.py\u001b[0m in \u001b[0;36m_stat_function\u001b[1;34m(self, name, func, axis, skipna, level, numeric_only, **kwargs)\u001b[0m\n\u001b[0;32m  10352\u001b[0m                 \u001b[0mname\u001b[0m\u001b[1;33m,\u001b[0m \u001b[0maxis\u001b[0m\u001b[1;33m=\u001b[0m\u001b[0maxis\u001b[0m\u001b[1;33m,\u001b[0m \u001b[0mlevel\u001b[0m\u001b[1;33m=\u001b[0m\u001b[0mlevel\u001b[0m\u001b[1;33m,\u001b[0m \u001b[0mskipna\u001b[0m\u001b[1;33m=\u001b[0m\u001b[0mskipna\u001b[0m\u001b[1;33m,\u001b[0m \u001b[0mnumeric_only\u001b[0m\u001b[1;33m=\u001b[0m\u001b[0mnumeric_only\u001b[0m\u001b[1;33m\u001b[0m\u001b[1;33m\u001b[0m\u001b[0m\n\u001b[0;32m  10353\u001b[0m             )\n\u001b[1;32m> 10354\u001b[1;33m         return self._reduce(\n\u001b[0m\u001b[0;32m  10355\u001b[0m             \u001b[0mfunc\u001b[0m\u001b[1;33m,\u001b[0m \u001b[0mname\u001b[0m\u001b[1;33m=\u001b[0m\u001b[0mname\u001b[0m\u001b[1;33m,\u001b[0m \u001b[0maxis\u001b[0m\u001b[1;33m=\u001b[0m\u001b[0maxis\u001b[0m\u001b[1;33m,\u001b[0m \u001b[0mskipna\u001b[0m\u001b[1;33m=\u001b[0m\u001b[0mskipna\u001b[0m\u001b[1;33m,\u001b[0m \u001b[0mnumeric_only\u001b[0m\u001b[1;33m=\u001b[0m\u001b[0mnumeric_only\u001b[0m\u001b[1;33m\u001b[0m\u001b[1;33m\u001b[0m\u001b[0m\n\u001b[0;32m  10356\u001b[0m         )\n",
      "\u001b[1;32m~\\anaconda3\\lib\\site-packages\\pandas\\core\\series.py\u001b[0m in \u001b[0;36m_reduce\u001b[1;34m(self, op, name, axis, skipna, numeric_only, filter_type, **kwds)\u001b[0m\n\u001b[0;32m   4390\u001b[0m                 )\n\u001b[0;32m   4391\u001b[0m             \u001b[1;32mwith\u001b[0m \u001b[0mnp\u001b[0m\u001b[1;33m.\u001b[0m\u001b[0merrstate\u001b[0m\u001b[1;33m(\u001b[0m\u001b[0mall\u001b[0m\u001b[1;33m=\u001b[0m\u001b[1;34m\"ignore\"\u001b[0m\u001b[1;33m)\u001b[0m\u001b[1;33m:\u001b[0m\u001b[1;33m\u001b[0m\u001b[1;33m\u001b[0m\u001b[0m\n\u001b[1;32m-> 4392\u001b[1;33m                 \u001b[1;32mreturn\u001b[0m \u001b[0mop\u001b[0m\u001b[1;33m(\u001b[0m\u001b[0mdelegate\u001b[0m\u001b[1;33m,\u001b[0m \u001b[0mskipna\u001b[0m\u001b[1;33m=\u001b[0m\u001b[0mskipna\u001b[0m\u001b[1;33m,\u001b[0m \u001b[1;33m**\u001b[0m\u001b[0mkwds\u001b[0m\u001b[1;33m)\u001b[0m\u001b[1;33m\u001b[0m\u001b[1;33m\u001b[0m\u001b[0m\n\u001b[0m\u001b[0;32m   4393\u001b[0m \u001b[1;33m\u001b[0m\u001b[0m\n\u001b[0;32m   4394\u001b[0m     def _reindex_indexer(\n",
      "\u001b[1;32m~\\anaconda3\\lib\\site-packages\\pandas\\core\\nanops.py\u001b[0m in \u001b[0;36m_f\u001b[1;34m(*args, **kwargs)\u001b[0m\n\u001b[0;32m     91\u001b[0m             \u001b[1;32mtry\u001b[0m\u001b[1;33m:\u001b[0m\u001b[1;33m\u001b[0m\u001b[1;33m\u001b[0m\u001b[0m\n\u001b[0;32m     92\u001b[0m                 \u001b[1;32mwith\u001b[0m \u001b[0mnp\u001b[0m\u001b[1;33m.\u001b[0m\u001b[0merrstate\u001b[0m\u001b[1;33m(\u001b[0m\u001b[0minvalid\u001b[0m\u001b[1;33m=\u001b[0m\u001b[1;34m\"ignore\"\u001b[0m\u001b[1;33m)\u001b[0m\u001b[1;33m:\u001b[0m\u001b[1;33m\u001b[0m\u001b[1;33m\u001b[0m\u001b[0m\n\u001b[1;32m---> 93\u001b[1;33m                     \u001b[1;32mreturn\u001b[0m \u001b[0mf\u001b[0m\u001b[1;33m(\u001b[0m\u001b[1;33m*\u001b[0m\u001b[0margs\u001b[0m\u001b[1;33m,\u001b[0m \u001b[1;33m**\u001b[0m\u001b[0mkwargs\u001b[0m\u001b[1;33m)\u001b[0m\u001b[1;33m\u001b[0m\u001b[1;33m\u001b[0m\u001b[0m\n\u001b[0m\u001b[0;32m     94\u001b[0m             \u001b[1;32mexcept\u001b[0m \u001b[0mValueError\u001b[0m \u001b[1;32mas\u001b[0m \u001b[0me\u001b[0m\u001b[1;33m:\u001b[0m\u001b[1;33m\u001b[0m\u001b[1;33m\u001b[0m\u001b[0m\n\u001b[0;32m     95\u001b[0m                 \u001b[1;31m# we want to transform an object array\u001b[0m\u001b[1;33m\u001b[0m\u001b[1;33m\u001b[0m\u001b[0m\n",
      "\u001b[1;32m~\\anaconda3\\lib\\site-packages\\pandas\\core\\nanops.py\u001b[0m in \u001b[0;36mf\u001b[1;34m(values, axis, skipna, **kwds)\u001b[0m\n\u001b[0;32m    153\u001b[0m                     \u001b[0mresult\u001b[0m \u001b[1;33m=\u001b[0m \u001b[0malt\u001b[0m\u001b[1;33m(\u001b[0m\u001b[0mvalues\u001b[0m\u001b[1;33m,\u001b[0m \u001b[0maxis\u001b[0m\u001b[1;33m=\u001b[0m\u001b[0maxis\u001b[0m\u001b[1;33m,\u001b[0m \u001b[0mskipna\u001b[0m\u001b[1;33m=\u001b[0m\u001b[0mskipna\u001b[0m\u001b[1;33m,\u001b[0m \u001b[1;33m**\u001b[0m\u001b[0mkwds\u001b[0m\u001b[1;33m)\u001b[0m\u001b[1;33m\u001b[0m\u001b[1;33m\u001b[0m\u001b[0m\n\u001b[0;32m    154\u001b[0m             \u001b[1;32melse\u001b[0m\u001b[1;33m:\u001b[0m\u001b[1;33m\u001b[0m\u001b[1;33m\u001b[0m\u001b[0m\n\u001b[1;32m--> 155\u001b[1;33m                 \u001b[0mresult\u001b[0m \u001b[1;33m=\u001b[0m \u001b[0malt\u001b[0m\u001b[1;33m(\u001b[0m\u001b[0mvalues\u001b[0m\u001b[1;33m,\u001b[0m \u001b[0maxis\u001b[0m\u001b[1;33m=\u001b[0m\u001b[0maxis\u001b[0m\u001b[1;33m,\u001b[0m \u001b[0mskipna\u001b[0m\u001b[1;33m=\u001b[0m\u001b[0mskipna\u001b[0m\u001b[1;33m,\u001b[0m \u001b[1;33m**\u001b[0m\u001b[0mkwds\u001b[0m\u001b[1;33m)\u001b[0m\u001b[1;33m\u001b[0m\u001b[1;33m\u001b[0m\u001b[0m\n\u001b[0m\u001b[0;32m    156\u001b[0m \u001b[1;33m\u001b[0m\u001b[0m\n\u001b[0;32m    157\u001b[0m             \u001b[1;32mreturn\u001b[0m \u001b[0mresult\u001b[0m\u001b[1;33m\u001b[0m\u001b[1;33m\u001b[0m\u001b[0m\n",
      "\u001b[1;32m~\\anaconda3\\lib\\site-packages\\pandas\\core\\nanops.py\u001b[0m in \u001b[0;36mnew_func\u001b[1;34m(values, axis, skipna, mask, **kwargs)\u001b[0m\n\u001b[0;32m    408\u001b[0m             \u001b[0mmask\u001b[0m \u001b[1;33m=\u001b[0m \u001b[0misna\u001b[0m\u001b[1;33m(\u001b[0m\u001b[0mvalues\u001b[0m\u001b[1;33m)\u001b[0m\u001b[1;33m\u001b[0m\u001b[1;33m\u001b[0m\u001b[0m\n\u001b[0;32m    409\u001b[0m \u001b[1;33m\u001b[0m\u001b[0m\n\u001b[1;32m--> 410\u001b[1;33m         \u001b[0mresult\u001b[0m \u001b[1;33m=\u001b[0m \u001b[0mfunc\u001b[0m\u001b[1;33m(\u001b[0m\u001b[0mvalues\u001b[0m\u001b[1;33m,\u001b[0m \u001b[0maxis\u001b[0m\u001b[1;33m=\u001b[0m\u001b[0maxis\u001b[0m\u001b[1;33m,\u001b[0m \u001b[0mskipna\u001b[0m\u001b[1;33m=\u001b[0m\u001b[0mskipna\u001b[0m\u001b[1;33m,\u001b[0m \u001b[0mmask\u001b[0m\u001b[1;33m=\u001b[0m\u001b[0mmask\u001b[0m\u001b[1;33m,\u001b[0m \u001b[1;33m**\u001b[0m\u001b[0mkwargs\u001b[0m\u001b[1;33m)\u001b[0m\u001b[1;33m\u001b[0m\u001b[1;33m\u001b[0m\u001b[0m\n\u001b[0m\u001b[0;32m    411\u001b[0m \u001b[1;33m\u001b[0m\u001b[0m\n\u001b[0;32m    412\u001b[0m         \u001b[1;32mif\u001b[0m \u001b[0mdatetimelike\u001b[0m\u001b[1;33m:\u001b[0m\u001b[1;33m\u001b[0m\u001b[1;33m\u001b[0m\u001b[0m\n",
      "\u001b[1;32m~\\anaconda3\\lib\\site-packages\\pandas\\core\\nanops.py\u001b[0m in \u001b[0;36mnanmean\u001b[1;34m(values, axis, skipna, mask)\u001b[0m\n\u001b[0;32m    663\u001b[0m \u001b[1;33m\u001b[0m\u001b[0m\n\u001b[0;32m    664\u001b[0m     \u001b[0mcount\u001b[0m \u001b[1;33m=\u001b[0m \u001b[0m_get_counts\u001b[0m\u001b[1;33m(\u001b[0m\u001b[0mvalues\u001b[0m\u001b[1;33m.\u001b[0m\u001b[0mshape\u001b[0m\u001b[1;33m,\u001b[0m \u001b[0mmask\u001b[0m\u001b[1;33m,\u001b[0m \u001b[0maxis\u001b[0m\u001b[1;33m,\u001b[0m \u001b[0mdtype\u001b[0m\u001b[1;33m=\u001b[0m\u001b[0mdtype_count\u001b[0m\u001b[1;33m)\u001b[0m\u001b[1;33m\u001b[0m\u001b[1;33m\u001b[0m\u001b[0m\n\u001b[1;32m--> 665\u001b[1;33m     \u001b[0mthe_sum\u001b[0m \u001b[1;33m=\u001b[0m \u001b[0m_ensure_numeric\u001b[0m\u001b[1;33m(\u001b[0m\u001b[0mvalues\u001b[0m\u001b[1;33m.\u001b[0m\u001b[0msum\u001b[0m\u001b[1;33m(\u001b[0m\u001b[0maxis\u001b[0m\u001b[1;33m,\u001b[0m \u001b[0mdtype\u001b[0m\u001b[1;33m=\u001b[0m\u001b[0mdtype_sum\u001b[0m\u001b[1;33m)\u001b[0m\u001b[1;33m)\u001b[0m\u001b[1;33m\u001b[0m\u001b[1;33m\u001b[0m\u001b[0m\n\u001b[0m\u001b[0;32m    666\u001b[0m \u001b[1;33m\u001b[0m\u001b[0m\n\u001b[0;32m    667\u001b[0m     \u001b[1;32mif\u001b[0m \u001b[0maxis\u001b[0m \u001b[1;32mis\u001b[0m \u001b[1;32mnot\u001b[0m \u001b[1;32mNone\u001b[0m \u001b[1;32mand\u001b[0m \u001b[0mgetattr\u001b[0m\u001b[1;33m(\u001b[0m\u001b[0mthe_sum\u001b[0m\u001b[1;33m,\u001b[0m \u001b[1;34m\"ndim\"\u001b[0m\u001b[1;33m,\u001b[0m \u001b[1;32mFalse\u001b[0m\u001b[1;33m)\u001b[0m\u001b[1;33m:\u001b[0m\u001b[1;33m\u001b[0m\u001b[1;33m\u001b[0m\u001b[0m\n",
      "\u001b[1;32m~\\anaconda3\\lib\\site-packages\\numpy\\core\\_methods.py\u001b[0m in \u001b[0;36m_sum\u001b[1;34m(a, axis, dtype, out, keepdims, initial, where)\u001b[0m\n\u001b[0;32m     45\u001b[0m def _sum(a, axis=None, dtype=None, out=None, keepdims=False,\n\u001b[0;32m     46\u001b[0m          initial=_NoValue, where=True):\n\u001b[1;32m---> 47\u001b[1;33m     \u001b[1;32mreturn\u001b[0m \u001b[0mumr_sum\u001b[0m\u001b[1;33m(\u001b[0m\u001b[0ma\u001b[0m\u001b[1;33m,\u001b[0m \u001b[0maxis\u001b[0m\u001b[1;33m,\u001b[0m \u001b[0mdtype\u001b[0m\u001b[1;33m,\u001b[0m \u001b[0mout\u001b[0m\u001b[1;33m,\u001b[0m \u001b[0mkeepdims\u001b[0m\u001b[1;33m,\u001b[0m \u001b[0minitial\u001b[0m\u001b[1;33m,\u001b[0m \u001b[0mwhere\u001b[0m\u001b[1;33m)\u001b[0m\u001b[1;33m\u001b[0m\u001b[1;33m\u001b[0m\u001b[0m\n\u001b[0m\u001b[0;32m     48\u001b[0m \u001b[1;33m\u001b[0m\u001b[0m\n\u001b[0;32m     49\u001b[0m def _prod(a, axis=None, dtype=None, out=None, keepdims=False,\n",
      "\u001b[1;31mTypeError\u001b[0m: can only concatenate str (not \"float\") to str"
     ]
    }
   ],
   "source": [
    "df1['column_2'].mean()"
   ]
  },
  {
   "cell_type": "raw",
   "id": "49e19608",
   "metadata": {},
   "source": [
    "# To calculate the mean, you need to ensure that all values in the 'column_2' column are of a numeric data type (e.g., int or float). If you want to include string data, you would need to convert the strings to numeric values first, which may involve data cleaning and conversion."
   ]
  },
  {
   "cell_type": "code",
   "execution_count": null,
   "id": "72119fff",
   "metadata": {},
   "outputs": [],
   "source": []
  },
  {
   "cell_type": "raw",
   "id": "65466ecf",
   "metadata": {},
   "source": [
    "Q6. What do you understand about the windows function in pandas and list the types of windows\n",
    "functions?`"
   ]
  },
  {
   "cell_type": "raw",
   "id": "e90d4b44",
   "metadata": {},
   "source": [
    "Window functions allow you to calculate statistics like rolling means, rolling sums, rolling standard deviations, and more.\n",
    "in pandas window function applied using .rolling()\n",
    "\n"
   ]
  },
  {
   "cell_type": "code",
   "execution_count": 26,
   "id": "b03b4f60",
   "metadata": {},
   "outputs": [],
   "source": [
    "# Moving average\n",
    "df1['roling_mean'] = df1['column_1'].rolling(window=2).mean()"
   ]
  },
  {
   "cell_type": "code",
   "execution_count": 27,
   "id": "8dd2e55a",
   "metadata": {},
   "outputs": [
    {
     "data": {
      "text/html": [
       "<div>\n",
       "<style scoped>\n",
       "    .dataframe tbody tr th:only-of-type {\n",
       "        vertical-align: middle;\n",
       "    }\n",
       "\n",
       "    .dataframe tbody tr th {\n",
       "        vertical-align: top;\n",
       "    }\n",
       "\n",
       "    .dataframe thead th {\n",
       "        text-align: right;\n",
       "    }\n",
       "</style>\n",
       "<table border=\"1\" class=\"dataframe\">\n",
       "  <thead>\n",
       "    <tr style=\"text-align: right;\">\n",
       "      <th></th>\n",
       "      <th>column_1</th>\n",
       "      <th>column_2</th>\n",
       "      <th>column_3</th>\n",
       "      <th>column_4</th>\n",
       "      <th>column_5</th>\n",
       "      <th>column_6</th>\n",
       "      <th>roling_mean</th>\n",
       "    </tr>\n",
       "  </thead>\n",
       "  <tbody>\n",
       "    <tr>\n",
       "      <th>1</th>\n",
       "      <td>0.025141</td>\n",
       "      <td>string_data</td>\n",
       "      <td>0.344857</td>\n",
       "      <td>0.064953</td>\n",
       "      <td>0.286690</td>\n",
       "      <td>0.690238</td>\n",
       "      <td>NaN</td>\n",
       "    </tr>\n",
       "    <tr>\n",
       "      <th>2</th>\n",
       "      <td>0.097582</td>\n",
       "      <td>0.062508</td>\n",
       "      <td>0.213198</td>\n",
       "      <td>0.546682</td>\n",
       "      <td>0.181128</td>\n",
       "      <td>0.438410</td>\n",
       "      <td>0.061362</td>\n",
       "    </tr>\n",
       "    <tr>\n",
       "      <th>3</th>\n",
       "      <td>0.213969</td>\n",
       "      <td>0.227302</td>\n",
       "      <td>0.370825</td>\n",
       "      <td>0.736212</td>\n",
       "      <td>0.527714</td>\n",
       "      <td>0.346375</td>\n",
       "      <td>0.155776</td>\n",
       "    </tr>\n",
       "    <tr>\n",
       "      <th>4</th>\n",
       "      <td>0.935602</td>\n",
       "      <td>0.332369</td>\n",
       "      <td>0.578442</td>\n",
       "      <td>0.172361</td>\n",
       "      <td>0.960739</td>\n",
       "      <td>0.161566</td>\n",
       "      <td>0.574786</td>\n",
       "    </tr>\n",
       "    <tr>\n",
       "      <th>5</th>\n",
       "      <td>0.911799</td>\n",
       "      <td>0.237404</td>\n",
       "      <td>0.279105</td>\n",
       "      <td>0.241149</td>\n",
       "      <td>0.290357</td>\n",
       "      <td>0.654931</td>\n",
       "      <td>0.923700</td>\n",
       "    </tr>\n",
       "    <tr>\n",
       "      <th>6</th>\n",
       "      <td>0.559769</td>\n",
       "      <td>0.632335</td>\n",
       "      <td>0.069830</td>\n",
       "      <td>0.862875</td>\n",
       "      <td>0.258019</td>\n",
       "      <td>0.609358</td>\n",
       "      <td>0.735784</td>\n",
       "    </tr>\n",
       "  </tbody>\n",
       "</table>\n",
       "</div>"
      ],
      "text/plain": [
       "   column_1     column_2  column_3  column_4  column_5  column_6  roling_mean\n",
       "1  0.025141  string_data  0.344857  0.064953  0.286690  0.690238          NaN\n",
       "2  0.097582     0.062508  0.213198  0.546682  0.181128  0.438410     0.061362\n",
       "3  0.213969     0.227302  0.370825  0.736212  0.527714  0.346375     0.155776\n",
       "4  0.935602     0.332369  0.578442  0.172361  0.960739  0.161566     0.574786\n",
       "5  0.911799     0.237404  0.279105  0.241149  0.290357  0.654931     0.923700\n",
       "6  0.559769     0.632335  0.069830  0.862875  0.258019  0.609358     0.735784"
      ]
     },
     "execution_count": 27,
     "metadata": {},
     "output_type": "execute_result"
    }
   ],
   "source": [
    "df1"
   ]
  },
  {
   "cell_type": "code",
   "execution_count": 28,
   "id": "cf2334c4",
   "metadata": {},
   "outputs": [],
   "source": [
    "#Exponential Moving Average\n",
    "df1['EMA'] = df1['column_1'].ewm(span=2).mean()"
   ]
  },
  {
   "cell_type": "code",
   "execution_count": 29,
   "id": "25be64ff",
   "metadata": {},
   "outputs": [
    {
     "data": {
      "text/html": [
       "<div>\n",
       "<style scoped>\n",
       "    .dataframe tbody tr th:only-of-type {\n",
       "        vertical-align: middle;\n",
       "    }\n",
       "\n",
       "    .dataframe tbody tr th {\n",
       "        vertical-align: top;\n",
       "    }\n",
       "\n",
       "    .dataframe thead th {\n",
       "        text-align: right;\n",
       "    }\n",
       "</style>\n",
       "<table border=\"1\" class=\"dataframe\">\n",
       "  <thead>\n",
       "    <tr style=\"text-align: right;\">\n",
       "      <th></th>\n",
       "      <th>column_1</th>\n",
       "      <th>column_2</th>\n",
       "      <th>column_3</th>\n",
       "      <th>column_4</th>\n",
       "      <th>column_5</th>\n",
       "      <th>column_6</th>\n",
       "      <th>roling_mean</th>\n",
       "      <th>EMA</th>\n",
       "    </tr>\n",
       "  </thead>\n",
       "  <tbody>\n",
       "    <tr>\n",
       "      <th>1</th>\n",
       "      <td>0.025141</td>\n",
       "      <td>string_data</td>\n",
       "      <td>0.344857</td>\n",
       "      <td>0.064953</td>\n",
       "      <td>0.286690</td>\n",
       "      <td>0.690238</td>\n",
       "      <td>NaN</td>\n",
       "      <td>0.025141</td>\n",
       "    </tr>\n",
       "    <tr>\n",
       "      <th>2</th>\n",
       "      <td>0.097582</td>\n",
       "      <td>0.062508</td>\n",
       "      <td>0.213198</td>\n",
       "      <td>0.546682</td>\n",
       "      <td>0.181128</td>\n",
       "      <td>0.438410</td>\n",
       "      <td>0.061362</td>\n",
       "      <td>0.079472</td>\n",
       "    </tr>\n",
       "    <tr>\n",
       "      <th>3</th>\n",
       "      <td>0.213969</td>\n",
       "      <td>0.227302</td>\n",
       "      <td>0.370825</td>\n",
       "      <td>0.736212</td>\n",
       "      <td>0.527714</td>\n",
       "      <td>0.346375</td>\n",
       "      <td>0.155776</td>\n",
       "      <td>0.172586</td>\n",
       "    </tr>\n",
       "    <tr>\n",
       "      <th>4</th>\n",
       "      <td>0.935602</td>\n",
       "      <td>0.332369</td>\n",
       "      <td>0.578442</td>\n",
       "      <td>0.172361</td>\n",
       "      <td>0.960739</td>\n",
       "      <td>0.161566</td>\n",
       "      <td>0.574786</td>\n",
       "      <td>0.687621</td>\n",
       "    </tr>\n",
       "    <tr>\n",
       "      <th>5</th>\n",
       "      <td>0.911799</td>\n",
       "      <td>0.237404</td>\n",
       "      <td>0.279105</td>\n",
       "      <td>0.241149</td>\n",
       "      <td>0.290357</td>\n",
       "      <td>0.654931</td>\n",
       "      <td>0.923700</td>\n",
       "      <td>0.837691</td>\n",
       "    </tr>\n",
       "    <tr>\n",
       "      <th>6</th>\n",
       "      <td>0.559769</td>\n",
       "      <td>0.632335</td>\n",
       "      <td>0.069830</td>\n",
       "      <td>0.862875</td>\n",
       "      <td>0.258019</td>\n",
       "      <td>0.609358</td>\n",
       "      <td>0.735784</td>\n",
       "      <td>0.652155</td>\n",
       "    </tr>\n",
       "  </tbody>\n",
       "</table>\n",
       "</div>"
      ],
      "text/plain": [
       "   column_1     column_2  column_3  column_4  column_5  column_6  roling_mean  \\\n",
       "1  0.025141  string_data  0.344857  0.064953  0.286690  0.690238          NaN   \n",
       "2  0.097582     0.062508  0.213198  0.546682  0.181128  0.438410     0.061362   \n",
       "3  0.213969     0.227302  0.370825  0.736212  0.527714  0.346375     0.155776   \n",
       "4  0.935602     0.332369  0.578442  0.172361  0.960739  0.161566     0.574786   \n",
       "5  0.911799     0.237404  0.279105  0.241149  0.290357  0.654931     0.923700   \n",
       "6  0.559769     0.632335  0.069830  0.862875  0.258019  0.609358     0.735784   \n",
       "\n",
       "        EMA  \n",
       "1  0.025141  \n",
       "2  0.079472  \n",
       "3  0.172586  \n",
       "4  0.687621  \n",
       "5  0.837691  \n",
       "6  0.652155  "
      ]
     },
     "execution_count": 29,
     "metadata": {},
     "output_type": "execute_result"
    }
   ],
   "source": [
    "df1"
   ]
  },
  {
   "cell_type": "code",
   "execution_count": 30,
   "id": "5731e844",
   "metadata": {},
   "outputs": [],
   "source": [
    "# rolling Sum\n",
    "df1['rolling_sum'] = df1['column_1'].rolling(window=2).sum()"
   ]
  },
  {
   "cell_type": "code",
   "execution_count": 31,
   "id": "98aca4fb",
   "metadata": {},
   "outputs": [
    {
     "data": {
      "text/html": [
       "<div>\n",
       "<style scoped>\n",
       "    .dataframe tbody tr th:only-of-type {\n",
       "        vertical-align: middle;\n",
       "    }\n",
       "\n",
       "    .dataframe tbody tr th {\n",
       "        vertical-align: top;\n",
       "    }\n",
       "\n",
       "    .dataframe thead th {\n",
       "        text-align: right;\n",
       "    }\n",
       "</style>\n",
       "<table border=\"1\" class=\"dataframe\">\n",
       "  <thead>\n",
       "    <tr style=\"text-align: right;\">\n",
       "      <th></th>\n",
       "      <th>column_1</th>\n",
       "      <th>column_2</th>\n",
       "      <th>column_3</th>\n",
       "      <th>column_4</th>\n",
       "      <th>column_5</th>\n",
       "      <th>column_6</th>\n",
       "      <th>roling_mean</th>\n",
       "      <th>EMA</th>\n",
       "      <th>rolling_sum</th>\n",
       "    </tr>\n",
       "  </thead>\n",
       "  <tbody>\n",
       "    <tr>\n",
       "      <th>1</th>\n",
       "      <td>0.025141</td>\n",
       "      <td>string_data</td>\n",
       "      <td>0.344857</td>\n",
       "      <td>0.064953</td>\n",
       "      <td>0.286690</td>\n",
       "      <td>0.690238</td>\n",
       "      <td>NaN</td>\n",
       "      <td>0.025141</td>\n",
       "      <td>NaN</td>\n",
       "    </tr>\n",
       "    <tr>\n",
       "      <th>2</th>\n",
       "      <td>0.097582</td>\n",
       "      <td>0.062508</td>\n",
       "      <td>0.213198</td>\n",
       "      <td>0.546682</td>\n",
       "      <td>0.181128</td>\n",
       "      <td>0.438410</td>\n",
       "      <td>0.061362</td>\n",
       "      <td>0.079472</td>\n",
       "      <td>0.122723</td>\n",
       "    </tr>\n",
       "    <tr>\n",
       "      <th>3</th>\n",
       "      <td>0.213969</td>\n",
       "      <td>0.227302</td>\n",
       "      <td>0.370825</td>\n",
       "      <td>0.736212</td>\n",
       "      <td>0.527714</td>\n",
       "      <td>0.346375</td>\n",
       "      <td>0.155776</td>\n",
       "      <td>0.172586</td>\n",
       "      <td>0.311552</td>\n",
       "    </tr>\n",
       "    <tr>\n",
       "      <th>4</th>\n",
       "      <td>0.935602</td>\n",
       "      <td>0.332369</td>\n",
       "      <td>0.578442</td>\n",
       "      <td>0.172361</td>\n",
       "      <td>0.960739</td>\n",
       "      <td>0.161566</td>\n",
       "      <td>0.574786</td>\n",
       "      <td>0.687621</td>\n",
       "      <td>1.149571</td>\n",
       "    </tr>\n",
       "    <tr>\n",
       "      <th>5</th>\n",
       "      <td>0.911799</td>\n",
       "      <td>0.237404</td>\n",
       "      <td>0.279105</td>\n",
       "      <td>0.241149</td>\n",
       "      <td>0.290357</td>\n",
       "      <td>0.654931</td>\n",
       "      <td>0.923700</td>\n",
       "      <td>0.837691</td>\n",
       "      <td>1.847401</td>\n",
       "    </tr>\n",
       "    <tr>\n",
       "      <th>6</th>\n",
       "      <td>0.559769</td>\n",
       "      <td>0.632335</td>\n",
       "      <td>0.069830</td>\n",
       "      <td>0.862875</td>\n",
       "      <td>0.258019</td>\n",
       "      <td>0.609358</td>\n",
       "      <td>0.735784</td>\n",
       "      <td>0.652155</td>\n",
       "      <td>1.471568</td>\n",
       "    </tr>\n",
       "  </tbody>\n",
       "</table>\n",
       "</div>"
      ],
      "text/plain": [
       "   column_1     column_2  column_3  column_4  column_5  column_6  roling_mean  \\\n",
       "1  0.025141  string_data  0.344857  0.064953  0.286690  0.690238          NaN   \n",
       "2  0.097582     0.062508  0.213198  0.546682  0.181128  0.438410     0.061362   \n",
       "3  0.213969     0.227302  0.370825  0.736212  0.527714  0.346375     0.155776   \n",
       "4  0.935602     0.332369  0.578442  0.172361  0.960739  0.161566     0.574786   \n",
       "5  0.911799     0.237404  0.279105  0.241149  0.290357  0.654931     0.923700   \n",
       "6  0.559769     0.632335  0.069830  0.862875  0.258019  0.609358     0.735784   \n",
       "\n",
       "        EMA  rolling_sum  \n",
       "1  0.025141          NaN  \n",
       "2  0.079472     0.122723  \n",
       "3  0.172586     0.311552  \n",
       "4  0.687621     1.149571  \n",
       "5  0.837691     1.847401  \n",
       "6  0.652155     1.471568  "
      ]
     },
     "execution_count": 31,
     "metadata": {},
     "output_type": "execute_result"
    }
   ],
   "source": [
    "df1"
   ]
  },
  {
   "cell_type": "code",
   "execution_count": 37,
   "id": "441c39d4",
   "metadata": {},
   "outputs": [
    {
     "data": {
      "text/plain": [
       "1         NaN\n",
       "2    0.097582\n",
       "3    0.213969\n",
       "4    0.935602\n",
       "5    0.935602\n",
       "6    0.911799\n",
       "Name: column_1, dtype: float64"
      ]
     },
     "execution_count": 37,
     "metadata": {},
     "output_type": "execute_result"
    }
   ],
   "source": [
    "# rolling min and max\n",
    "df1['column_1'].rolling(window=2).max()"
   ]
  },
  {
   "cell_type": "code",
   "execution_count": 39,
   "id": "6606a105",
   "metadata": {},
   "outputs": [
    {
     "data": {
      "text/plain": [
       "1         NaN\n",
       "2    0.025141\n",
       "3    0.097582\n",
       "4    0.213969\n",
       "5    0.911799\n",
       "6    0.559769\n",
       "Name: column_1, dtype: float64"
      ]
     },
     "execution_count": 39,
     "metadata": {},
     "output_type": "execute_result"
    }
   ],
   "source": [
    "df1['column_1'].rolling(window=2).min()"
   ]
  },
  {
   "cell_type": "raw",
   "id": "a1ed1547",
   "metadata": {},
   "source": [
    "Q7. Write a code to print only the current month and year at the time of answering this question.\n",
    "\n",
    "[Hint: Use pandas.datetime function]"
   ]
  },
  {
   "cell_type": "code",
   "execution_count": 40,
   "id": "e8ccd6ff",
   "metadata": {},
   "outputs": [],
   "source": [
    "from datetime import datetime"
   ]
  },
  {
   "cell_type": "code",
   "execution_count": 41,
   "id": "21d35d38",
   "metadata": {},
   "outputs": [],
   "source": [
    "current_date = datetime.now()"
   ]
  },
  {
   "cell_type": "code",
   "execution_count": 45,
   "id": "50ec9d1c",
   "metadata": {},
   "outputs": [],
   "source": [
    "current_month = pd.to_datetime(current_date).month\n",
    "current_year = pd.to_datetime(current_date).year"
   ]
  },
  {
   "cell_type": "code",
   "execution_count": 48,
   "id": "4ba86b13",
   "metadata": {},
   "outputs": [
    {
     "name": "stdout",
     "output_type": "stream",
     "text": [
      "Current month:  9\n",
      "Current year:  2023\n"
     ]
    }
   ],
   "source": [
    "print('Current month: ',current_month)\n",
    "print('Current year: ', current_year)"
   ]
  },
  {
   "cell_type": "raw",
   "id": "8a60ca43",
   "metadata": {},
   "source": [
    "Q8. Write a Python program that takes in two dates as input (in the format YYYY-MM-DD) and\n",
    "calculates the difference between them in days, hours, and minutes using Pandas time delta. The\n",
    "program should prompt the user to enter the dates and display the result."
   ]
  },
  {
   "cell_type": "code",
   "execution_count": 59,
   "id": "0c0257f3",
   "metadata": {},
   "outputs": [
    {
     "name": "stdout",
     "output_type": "stream",
     "text": [
      "Enter the start date (YYYY-MM-DD): 2022-10-10\n",
      "Enter the end date (YYYY-MM-DD): 2023-10-10\n",
      "(365, 0, 0)\n"
     ]
    }
   ],
   "source": [
    "def date_diff(start_date, end_date):\n",
    "    try:\n",
    "        start_datetime = pd.to_datetime(start_date)\n",
    "        end_datetime = pd.to_datetime(end_date)\n",
    "        \n",
    "        date_difference = end_datetime - start_datetime\n",
    "        \n",
    "        days = date_difference.days\n",
    "        hours, remainder = divmod(date_difference.seconds, 3600)\n",
    "        minutes, _ = divmod(remainder,60)\n",
    "        \n",
    "        return days, hours, minutes\n",
    "    except ValueError:\n",
    "        return None\n",
    "    \n",
    "start_date = input(\"Enter the start date (YYYY-MM-DD): \")\n",
    "end_date = input(\"Enter the end date (YYYY-MM-DD): \")\n",
    "\n",
    "result = date_diff(start_date, end_date)\n",
    "print(result)"
   ]
  },
  {
   "cell_type": "raw",
   "id": "53e84f88",
   "metadata": {},
   "source": [
    "Q9. Write a Python program that reads a CSV file containing categorical data and converts a specified\n",
    "column to a categorical data type. The program should prompt the user to enter the file path, column\n",
    "name, and category order, and then display the sorted data."
   ]
  },
  {
   "cell_type": "code",
   "execution_count": 61,
   "id": "0e58f5f5",
   "metadata": {},
   "outputs": [
    {
     "name": "stdout",
     "output_type": "stream",
     "text": [
      "file_path: C:/Users/Pushpender singh/Documents/Python 2/03-Pandas/tips.csv\n",
      "column name: tip\n",
      "23\n",
      "file not found\n"
     ]
    }
   ],
   "source": [
    "def csv_file_read(path,column_name,category_order):\n",
    "    try:\n",
    "        df = pd.read_csv('path')\n",
    "        \n",
    "        df['column_name'] = pd.Categorical(df['column_name'],categories=category_order, ordered= True)\n",
    "        \n",
    "        print(df)\n",
    "        \n",
    "    except FileNotFoundError:\n",
    "        print('file not found')\n",
    "    except KeyError:\n",
    "        print('column name not found in csv file')\n",
    "        \n",
    "path = input('file_path: ')\n",
    "column_name = input('column name: ')\n",
    "category_order = input().split(',')\n",
    "\n",
    "csv_file_read(path, column_name, category_order)"
   ]
  },
  {
   "cell_type": "raw",
   "id": "47e8e23d",
   "metadata": {},
   "source": [
    "Q10. Write a Python program that reads a CSV file containing sales data for different products and\n",
    "visualizes the data using a stacked bar chart to show the sales of each product category over time. The program should prompt the user to enter the file path and display the chart."
   ]
  },
  {
   "cell_type": "code",
   "execution_count": 62,
   "id": "f84c169f",
   "metadata": {},
   "outputs": [],
   "source": [
    "import matplotlib.pyplot as plt"
   ]
  },
  {
   "cell_type": "code",
   "execution_count": 63,
   "id": "3b5d74d6",
   "metadata": {},
   "outputs": [
    {
     "name": "stdout",
     "output_type": "stream",
     "text": [
      "Enter the CSV file path: C:/Users/Pushpender singh/Downloads/SuperStoreUS-2015.csv\n"
     ]
    }
   ],
   "source": [
    "def bar_chart_visual(file_path):\n",
    "    try:\n",
    "        df = pd.read_csv(file_path)\n",
    "        df_pivot = df.pivot(index='Date', columns='Category', values='Sales')\n",
    "        \n",
    "        ax = df_pivot.plot(kind='bar', stacked = True, figsize=(10,6))\n",
    "        \n",
    "        plt.xlabel('Date')\n",
    "        plt.ylabel('Sales')\n",
    "        plt.title('Sales by Category over time')\n",
    "        \n",
    "        plt.legend('Category')\n",
    "        plt.show()\n",
    "        \n",
    "    except FileNotFoundError:\n",
    "        print('File not found')\n",
    "        \n",
    "file_path = input('Enter the CSV file path: ')"
   ]
  },
  {
   "cell_type": "code",
   "execution_count": null,
   "id": "7427bc28",
   "metadata": {},
   "outputs": [],
   "source": []
  },
  {
   "cell_type": "raw",
   "id": "9de0654a",
   "metadata": {},
   "source": [
    "Q11. You are given a CSV file containing student data that includes the student ID and their test score. Write a Python program that reads the CSV file, calculates the mean, median, and mode of the test scores, and displays the results in a table."
   ]
  },
  {
   "cell_type": "code",
   "execution_count": 65,
   "id": "86f22bdf",
   "metadata": {},
   "outputs": [],
   "source": [
    "df4 = pd.DataFrame({'student_id':[1,2,3,4,5,6,7,8,9,10],\n",
    "                    'Test score':[84,90,80,75,82,94,78,87,92,83]\n",
    "                   })"
   ]
  },
  {
   "cell_type": "code",
   "execution_count": 66,
   "id": "0e61bdae",
   "metadata": {},
   "outputs": [
    {
     "data": {
      "text/html": [
       "<div>\n",
       "<style scoped>\n",
       "    .dataframe tbody tr th:only-of-type {\n",
       "        vertical-align: middle;\n",
       "    }\n",
       "\n",
       "    .dataframe tbody tr th {\n",
       "        vertical-align: top;\n",
       "    }\n",
       "\n",
       "    .dataframe thead th {\n",
       "        text-align: right;\n",
       "    }\n",
       "</style>\n",
       "<table border=\"1\" class=\"dataframe\">\n",
       "  <thead>\n",
       "    <tr style=\"text-align: right;\">\n",
       "      <th></th>\n",
       "      <th>student_id</th>\n",
       "      <th>Test score</th>\n",
       "    </tr>\n",
       "  </thead>\n",
       "  <tbody>\n",
       "    <tr>\n",
       "      <th>0</th>\n",
       "      <td>1</td>\n",
       "      <td>84</td>\n",
       "    </tr>\n",
       "    <tr>\n",
       "      <th>1</th>\n",
       "      <td>2</td>\n",
       "      <td>90</td>\n",
       "    </tr>\n",
       "    <tr>\n",
       "      <th>2</th>\n",
       "      <td>3</td>\n",
       "      <td>80</td>\n",
       "    </tr>\n",
       "    <tr>\n",
       "      <th>3</th>\n",
       "      <td>4</td>\n",
       "      <td>75</td>\n",
       "    </tr>\n",
       "    <tr>\n",
       "      <th>4</th>\n",
       "      <td>5</td>\n",
       "      <td>82</td>\n",
       "    </tr>\n",
       "    <tr>\n",
       "      <th>5</th>\n",
       "      <td>6</td>\n",
       "      <td>94</td>\n",
       "    </tr>\n",
       "    <tr>\n",
       "      <th>6</th>\n",
       "      <td>7</td>\n",
       "      <td>78</td>\n",
       "    </tr>\n",
       "    <tr>\n",
       "      <th>7</th>\n",
       "      <td>8</td>\n",
       "      <td>87</td>\n",
       "    </tr>\n",
       "    <tr>\n",
       "      <th>8</th>\n",
       "      <td>9</td>\n",
       "      <td>92</td>\n",
       "    </tr>\n",
       "    <tr>\n",
       "      <th>9</th>\n",
       "      <td>10</td>\n",
       "      <td>83</td>\n",
       "    </tr>\n",
       "  </tbody>\n",
       "</table>\n",
       "</div>"
      ],
      "text/plain": [
       "   student_id  Test score\n",
       "0           1          84\n",
       "1           2          90\n",
       "2           3          80\n",
       "3           4          75\n",
       "4           5          82\n",
       "5           6          94\n",
       "6           7          78\n",
       "7           8          87\n",
       "8           9          92\n",
       "9          10          83"
      ]
     },
     "execution_count": 66,
     "metadata": {},
     "output_type": "execute_result"
    }
   ],
   "source": [
    "df4"
   ]
  },
  {
   "cell_type": "code",
   "execution_count": 68,
   "id": "f2b47f3a",
   "metadata": {},
   "outputs": [],
   "source": [
    "def df_stats(df):\n",
    "    df_mean = df['Test score'].mean()\n",
    "    df_median = df['Test score'].median()\n",
    "    df_mode = df['Test score'].mode()\n",
    "    return df_mean, df_median, df_mode"
   ]
  },
  {
   "cell_type": "code",
   "execution_count": 71,
   "id": "5b766505",
   "metadata": {},
   "outputs": [
    {
     "data": {
      "text/plain": [
       "(84.5,\n",
       " 83.5,\n",
       " 0    75\n",
       " 1    78\n",
       " 2    80\n",
       " 3    82\n",
       " 4    83\n",
       " 5    84\n",
       " 6    87\n",
       " 7    90\n",
       " 8    92\n",
       " 9    94\n",
       " dtype: int64)"
      ]
     },
     "execution_count": 71,
     "metadata": {},
     "output_type": "execute_result"
    }
   ],
   "source": [
    "df_stats(df4)"
   ]
  },
  {
   "cell_type": "code",
   "execution_count": null,
   "id": "bb7fa1e4",
   "metadata": {},
   "outputs": [],
   "source": []
  },
  {
   "cell_type": "code",
   "execution_count": null,
   "id": "2eb203f9",
   "metadata": {},
   "outputs": [],
   "source": []
  },
  {
   "cell_type": "code",
   "execution_count": null,
   "id": "d0367df1",
   "metadata": {},
   "outputs": [],
   "source": []
  },
  {
   "cell_type": "code",
   "execution_count": null,
   "id": "c2e6d2bd",
   "metadata": {},
   "outputs": [],
   "source": []
  }
 ],
 "metadata": {
  "kernelspec": {
   "display_name": "Python 3 (ipykernel)",
   "language": "python",
   "name": "python3"
  },
  "language_info": {
   "codemirror_mode": {
    "name": "ipython",
    "version": 3
   },
   "file_extension": ".py",
   "mimetype": "text/x-python",
   "name": "python",
   "nbconvert_exporter": "python",
   "pygments_lexer": "ipython3",
   "version": "3.9.7"
  }
 },
 "nbformat": 4,
 "nbformat_minor": 5
}

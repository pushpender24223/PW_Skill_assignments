{
 "cells": [
  {
   "cell_type": "raw",
   "id": "07546f32",
   "metadata": {},
   "source": [
    "Q1. What is the Probability density function?\n",
    "\n",
    "Ans. A function that defines the relationship between random variable and its probability, such that you can find the probability of the variable using function is called a Probability Density Function (PDF) in statistics.\n",
    "=> Used in context of Distribution of contionous random variable."
   ]
  },
  {
   "cell_type": "raw",
   "id": "81cd31a1",
   "metadata": {},
   "source": [
    "Q2. What are the types of Probability distribution?\n",
    "\n",
    "Ans. 1.Normal / Gaussion distribution\n",
    "     2.Bernouli Distribution\n",
    "     3.Uniform Distribution\n",
    "     4.Poisson Distribution\n",
    "     5.Log Normal Distribution\n",
    "     6.Binomial Distribution"
   ]
  },
  {
   "cell_type": "raw",
   "id": "13ee8cfc",
   "metadata": {},
   "source": [
    "Q3. Write a Python function to calculate the probability density function of a normal distribution with given mean and standard deviation at a given point."
   ]
  },
  {
   "cell_type": "code",
   "execution_count": 1,
   "id": "9d3c09bf",
   "metadata": {},
   "outputs": [],
   "source": [
    "import math"
   ]
  },
  {
   "cell_type": "code",
   "execution_count": 2,
   "id": "35a4a1f1",
   "metadata": {},
   "outputs": [],
   "source": [
    "def normal_pdf(x,mean, std_dev):\n",
    "    \n",
    "    if std_dev<=0:\n",
    "        raise ValueError('Standard deviation must be greater than 0')\n",
    "        \n",
    "    pdf = (1/(std_dev*math.sqrt(2*math.pi)))*math.exp(-((x - mean) ** 2) / (2 * std_dev ** 2))\n",
    "    \n",
    "    return pdf\n"
   ]
  },
  {
   "cell_type": "code",
   "execution_count": 3,
   "id": "0b0415f9",
   "metadata": {},
   "outputs": [],
   "source": [
    "mean = 8\n",
    "std= 1.24\n",
    "x= 7"
   ]
  },
  {
   "cell_type": "code",
   "execution_count": 5,
   "id": "5750e373",
   "metadata": {},
   "outputs": [
    {
     "data": {
      "text/plain": [
       "0.23241469725611086"
      ]
     },
     "execution_count": 5,
     "metadata": {},
     "output_type": "execute_result"
    }
   ],
   "source": [
    "normal_pdf(x,mean,std)"
   ]
  },
  {
   "cell_type": "raw",
   "id": "1c32181b",
   "metadata": {},
   "source": [
    "Q4. What are the properties of Binomial distribution? Give two examples of events where binomial\n",
    "distribution can be applied."
   ]
  },
  {
   "cell_type": "raw",
   "id": "a412c5dd",
   "metadata": {},
   "source": [
    "=> The binomial distribution is a discrete probability distribution that models the number of successes (usually denoted as \"x\") in a fixed number of independent Bernoulli trials, where each trial has two possible outcomes: success (with probability \"p\") or \n",
    "failure (with probability \"q\" where q = 1 - p). \n",
    "\n",
    "The key properties of Binomial Distribution are as follows:-\n",
    " 1.Fixed Number of Trials (n): The binomial distribution applies to a fixed number of trials, denoted   as \"n,\" where n is a positive integer. Each trial is independent of the others.\n",
    " 2.Two Outcomes: Each trial results in one of two possible outcomes: success or failure.\n",
    " 3.Constant Probability: The probability of success (\"p\") remains constant across all trials. \n",
    "    The probability of failure (\"q\") is also constant and complementary to p (q = 1 - p).\n",
    " 4.Independence: Each trial is independent of the others, meaning the outcome of one trial does not      affect the outcome of another trial.\n",
    " 5.Discreteness: The binomial distribution is a discrete distribution, meaning that x can only take on    integer values from 0 to n.\n",
    " 6.Probability Mass Function: The probability mass function (PMF) of the binomial distribution is        given by the formula:\n",
    "    P(X = x) = (n choose x) * p^x * q^(n - x)\n",
    " 7.Mean and Variance: The mean (expected value) of the binomial distribution is E(X) = np, and the       variance is Var(X) = npq.\n",
    " \n",
    " Examples:-\n",
    " Coin Flips: Consider flipping a fair coin (a coin with a 50% chance of landing heads and a 50% chance of landing tails) multiple times. The number of times it lands heads in a fixed number of flips (say, 10) follows a binomial distribution with parameters n = 10 (fixed number of flips) and p = 0.5 (probability of heads).\n",
    "\n",
    "Quality Control: In a manufacturing process, you can use the binomial distribution to model the number of defective items in a random sample of a fixed size. For example, if you take a sample of 100 items from a production line where each item has a 5% chance of being defective, the number of defective items in the sample follows a binomial distribution with parameters n = 100 (fixed sample size) and p = 0.05 (probability of being defective).\n"
   ]
  },
  {
   "cell_type": "raw",
   "id": "22bea40e",
   "metadata": {},
   "source": [
    "Q5. Generate a random sample of size 1000 from a binomial distribution with probability of success 0.4\n",
    "and plot a histogram of the results using matplotlib."
   ]
  },
  {
   "cell_type": "code",
   "execution_count": 6,
   "id": "6d3109b1",
   "metadata": {},
   "outputs": [],
   "source": [
    "import numpy as np\n",
    "import matplotlib.pyplot as plt"
   ]
  },
  {
   "cell_type": "code",
   "execution_count": 9,
   "id": "69933ca5",
   "metadata": {},
   "outputs": [],
   "source": [
    "n=1000\n",
    "p=0.4\n",
    "random_sample = np.random.binomial(1,p,n)"
   ]
  },
  {
   "cell_type": "code",
   "execution_count": 10,
   "id": "1b751916",
   "metadata": {},
   "outputs": [
    {
     "data": {
      "image/png": "[encoded data removed]",
      "text/plain": [
       "<Figure size 432x288 with 1 Axes>"
      ]
     },
     "metadata": {
      "needs_background": "light"
     },
     "output_type": "display_data"
    }
   ],
   "source": [
    "plt.hist(random_sample,bins=[0,1,2], align='left', rwidth=0.8, color='Skyblue')\n",
    "plt.xlabel('Success or Failure')\n",
    "plt.ylabel('Frequency')\n",
    "plt.xticks([0, 1], ['Failure', 'Success'])\n",
    "plt.title('Binomial Distribution with p=0.4')\n",
    "plt.show()"
   ]
  },
  {
   "cell_type": "raw",
   "id": "56102a03",
   "metadata": {},
   "source": [
    "Q6. Write a Python function to calculate the cumulative distribution function of a Poisson distribution with given mean at a given point."
   ]
  },
  {
   "cell_type": "code",
   "execution_count": 11,
   "id": "8b10cd83",
   "metadata": {},
   "outputs": [],
   "source": [
    "def poisson_cdf(x,mean):\n",
    "    \n",
    "    if x<0:\n",
    "        return 0.0\n",
    "    cdf = 0.0\n",
    "    for k in range(x+1):\n",
    "        cdf += (math.exp(-mean)*mean**k)/math.factorial(k)\n",
    "        \n",
    "    return cdf"
   ]
  },
  {
   "cell_type": "code",
   "execution_count": 12,
   "id": "f062e28f",
   "metadata": {},
   "outputs": [
    {
     "data": {
      "text/plain": [
       "0.7575761331330659"
      ]
     },
     "execution_count": 12,
     "metadata": {},
     "output_type": "execute_result"
    }
   ],
   "source": [
    "poisson_cdf(3,2.5)"
   ]
  },
  {
   "cell_type": "raw",
   "id": "44923231",
   "metadata": {},
   "source": [
    "Q7. How Binomial distribution different from Poisson distribution?"
   ]
  },
  {
   "cell_type": "raw",
   "id": "a884e04a",
   "metadata": {},
   "source": [
    "The Binomial and Poisson distributions are both probability distributions used to model discrete random variables, but they are different in terms of their characteristics and the types of phenomena they are best suited to model. Here are the key differences between the Binomial and Poisson distributions:\n",
    "\n",
    "1.Number of Trials:\n",
    "\n",
    "Binomial Distribution: The Binomial distribution is used when you have a fixed number of independent trials, denoted as \"n,\" and you are interested in the number of successes (e.g., the number of heads in 10 coin flips). Each trial has two possible outcomes: success or failure.\n",
    "\n",
    "Poisson Distribution: The Poisson distribution is used when the number of trials, \"n,\" is not fixed or is very large, and you are interested in the number of rare events (e.g., the number of customer arrivals at a store in an hour). It is often applied to situations where events occur at a constant rate over time.\n",
    "\n",
    "2.Constant Probability:\n",
    "\n",
    "Binomial Distribution: In the Binomial distribution, the probability of success (\"p\") remains constant across all trials, and the trials are independent. The probability of failure (\"q\") is also constant (q = 1 - p).\n",
    "\n",
    "Poisson Distribution: In the Poisson distribution, the probability of an event occurring in a given interval of time or space is constant, but the number of events in different intervals is independent.\n",
    "\n",
    "3.Random Variable:\n",
    "\n",
    "Binomial Distribution: The random variable represents the count of successes in a fixed number of trials and can take on integer values from 0 to n.\n",
    "\n",
    "Poisson Distribution: The random variable represents the count of rare events occurring in a fixed interval of time or space and can take on integer values from 0 to infinity.\n",
    "\n",
    "4.Parameters:\n",
    "\n",
    "Binomial Distribution: The Binomial distribution has two parameters: \"n\" (the number of trials) and \"p\" (the probability of success in each trial).\n",
    "\n",
    "Poisson Distribution: The Poisson distribution has one parameter: \"λ\" (lambda), which represents the average rate of events occurring in the given interval.\n",
    "\n",
    "5.Use Cases:\n",
    "\n",
    "Binomial Distribution: The Binomial distribution is used to model situations with a fixed number of trials and a known probability of success in each trial. For example, it's suitable for modeling the number of defective items in a sample from a production process, or the number of successful attempts in a sequence of trials.\n",
    "\n",
    "Poisson Distribution: The Poisson distribution is used to model rare events occurring in a fixed interval of time or space when the average rate of events is known. For example, it's used to model the number of phone calls to a call center in an hour or the number of accidents at a traffic intersection in a day."
   ]
  },
  {
   "cell_type": "raw",
   "id": "42187027",
   "metadata": {},
   "source": [
    "Q8. Generate a random sample of size 1000 from a Poisson distribution with mean 5 and calculate the\n",
    "sample mean and variance."
   ]
  },
  {
   "cell_type": "code",
   "execution_count": 13,
   "id": "6d2ab357",
   "metadata": {},
   "outputs": [],
   "source": [
    "random_sample1 = np.random.poisson(5,1000)"
   ]
  },
  {
   "cell_type": "code",
   "execution_count": 15,
   "id": "797efa9c",
   "metadata": {},
   "outputs": [
    {
     "data": {
      "text/plain": [
       "4.982"
      ]
     },
     "execution_count": 15,
     "metadata": {},
     "output_type": "execute_result"
    }
   ],
   "source": [
    "sampl_mean = np.mean(random_sample1)\n",
    "sampl_mean"
   ]
  },
  {
   "cell_type": "code",
   "execution_count": 17,
   "id": "1fd9d013",
   "metadata": {},
   "outputs": [
    {
     "data": {
      "text/plain": [
       "5.291676"
      ]
     },
     "execution_count": 17,
     "metadata": {},
     "output_type": "execute_result"
    }
   ],
   "source": [
    "sampl_var = np.var(random_sample1)\n",
    "sampl_var"
   ]
  },
  {
   "cell_type": "raw",
   "id": "92a524c0",
   "metadata": {},
   "source": [
    "Q9. How mean and variance are related in Binomial distribution and Poisson distribution?\n",
    "Ans. The relationship between mean (expected value) and variance differs for the Binomial distribution and the Poisson distribution:\n",
    "\n",
    "=>Binomial Distribution:\n",
    "\n",
    "In the Binomial distribution, the mean (μ) is given by:\n",
    "\n",
    "μ = n * p\n",
    "\n",
    "Where:\n",
    "\n",
    "n is the number of trials (fixed).\n",
    "p is the probability of success in each trial (constant).\n",
    "The variance (σ^2) of a Binomial distribution is given by:\n",
    "\n",
    "σ^2 = n * p * (1 - p)\n",
    "\n",
    "The standard deviation (σ) is the square root of the variance:\n",
    "\n",
    "σ = √(n * p * (1 - p))\n",
    "\n",
    "In the Binomial distribution, the variance depends on both the number of trials (n) and the probability of success (p). It increases as the number of trials or the probability of success deviates from 0.5. When p is close to 0.5, the variance is at its maximum.\n",
    "\n",
    "Poisson Distribution:\n",
    "\n",
    "In the Poisson distribution, the mean (λ) is given by:\n",
    "\n",
    "λ = μ\n",
    "\n",
    "The variance (σ^2) of a Poisson distribution is also given by:\n",
    "\n",
    "σ^2 = λ\n",
    "\n",
    "The standard deviation (σ) is the square root of the variance:\n",
    "\n",
    "σ = √λ\n",
    "\n",
    "In the Poisson distribution, the variance is equal to the mean (λ). This is a unique property of the Poisson distribution, where the variance is solely determined by the average rate of occurrence (mean). As the mean (λ) increases, both the mean and the variance increase proportionally.\n",
    "\n",
    "In summary, for the Binomial distribution, the variance depends on the number of trials (n) and the probability of success (p), while in the Poisson distribution, the variance is directly equal to the mean (λ). The relationship between mean and variance provides valuable information about the spread and variability of data in each distribution.\n"
   ]
  },
  {
   "cell_type": "raw",
   "id": "6b3c5cdc",
   "metadata": {},
   "source": [
    "Q10. In normal distribution with respect to mean position, where does the least frequent data appear?\n",
    "\n",
    "Ans. In a normal distribution (also known as a Gaussian distribution), which is a symmetric probability distribution, the least frequent data appears in the tails of the distribution, farthest from the mean. The tails of a normal distribution extend infinitely in both directions.\n",
    "\n",
    "Specifically:\n",
    "\n",
    "The majority of the data, approximately 68%, falls within one standard deviation (σ) of the mean in the central and most densely populated region of the distribution.\n",
    "\n",
    "About 95% of the data falls within two standard deviations of the mean.\n",
    "\n",
    "Approximately 99.7% of the data falls within three standard deviations of the mean.\n",
    "\n",
    "As you move farther from the mean (either in the positive or negative direction), the probability density decreases significantly, indicating that data points in the tails of the distribution are much less frequent. The data points in the extreme tails, which are several standard deviations away from the mean, are the least frequent and represent extreme outliers in a normal distribution.\n"
   ]
  },
  {
   "cell_type": "code",
   "execution_count": null,
   "id": "ff6465ee",
   "metadata": {},
   "outputs": [],
   "source": []
  }
 ],
 "metadata": {
  "kernelspec": {
   "display_name": "Python 3 (ipykernel)",
   "language": "python",
   "name": "python3"
  },
  "language_info": {
   "codemirror_mode": {
    "name": "ipython",
    "version": 3
   },
   "file_extension": ".py",
   "mimetype": "text/x-python",
   "name": "python",
   "nbconvert_exporter": "python",
   "pygments_lexer": "ipython3",
   "version": "3.9.7"
  }
 },
 "nbformat": 4,
 "nbformat_minor": 5
}

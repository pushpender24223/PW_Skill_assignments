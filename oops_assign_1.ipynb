{
 "cells": [
  {
   "cell_type": "raw",
   "id": "94cb615b",
   "metadata": {},
   "source": [
    "Q1. Create a vehicle class with an init method having instance variables as name_of_vehicle, max_speed\n",
    "and average_of_vehicle. "
   ]
  },
  {
   "cell_type": "code",
   "execution_count": 1,
   "id": "0aa6e386",
   "metadata": {},
   "outputs": [],
   "source": [
    "class vehicle:\n",
    "    \n",
    "    def __init__(self, name_of_vehicle, max_speed, average_of_vehicle):\n",
    "        self.name_of_vehicle = name_of_vehicle\n",
    "        self.max_speed = max_speed\n",
    "        self.average_of_vehicle = average_of_vehicle\n",
    "        \n",
    "    def vehicle_details(self):\n",
    "        return self.name_of_vehicle, self.max_speed, self.average_of_vehicle"
   ]
  },
  {
   "cell_type": "code",
   "execution_count": null,
   "id": "a73664d0",
   "metadata": {},
   "outputs": [],
   "source": []
  },
  {
   "cell_type": "raw",
   "id": "4d5fe1e8",
   "metadata": {},
   "source": [
    "Q2. Create a child class car from the vehicle class created in Que 1, which will inherit the vehicle class.Create a method named seating_capacity which takes capacity as an argument and returns the name of the vehicle and its seating capacity."
   ]
  },
  {
   "cell_type": "code",
   "execution_count": 20,
   "id": "c4543a41",
   "metadata": {},
   "outputs": [],
   "source": [
    "class car(vehicle):\n",
    "    \n",
    "    def seating_capacity(self, capacity):\n",
    "        return f\"{self.name_of_vehicle} - Seating Capacity: {capacity}\""
   ]
  },
  {
   "cell_type": "code",
   "execution_count": 21,
   "id": "f51d5895",
   "metadata": {},
   "outputs": [],
   "source": [
    "c = car('xyz', 100, 15)"
   ]
  },
  {
   "cell_type": "code",
   "execution_count": 22,
   "id": "73af223a",
   "metadata": {},
   "outputs": [],
   "source": [
    "capacity = 4"
   ]
  },
  {
   "cell_type": "code",
   "execution_count": 23,
   "id": "4c676944",
   "metadata": {},
   "outputs": [
    {
     "data": {
      "text/plain": [
       "'xyz - Seating Capacity: 4'"
      ]
     },
     "execution_count": 23,
     "metadata": {},
     "output_type": "execute_result"
    }
   ],
   "source": [
    "c.seating_capacity(capacity)"
   ]
  },
  {
   "cell_type": "code",
   "execution_count": null,
   "id": "339b62c6",
   "metadata": {},
   "outputs": [],
   "source": []
  },
  {
   "cell_type": "raw",
   "id": "dd64cc59",
   "metadata": {},
   "source": [
    "Q3. What is multiple inheritance? Write a python code to demonstrate multiple inheritance."
   ]
  },
  {
   "cell_type": "raw",
   "id": "1afe8963",
   "metadata": {},
   "source": [
    "Multiple inheritance is a feature in object-oriented programming where a class can inherit attributes and methods from more than one parent class. This allows a child class to inherit properties and behaviors from multiple classes."
   ]
  },
  {
   "cell_type": "code",
   "execution_count": 24,
   "id": "e96189b7",
   "metadata": {},
   "outputs": [],
   "source": [
    "class A:\n",
    "    def method_a(self):\n",
    "        print('method 1')"
   ]
  },
  {
   "cell_type": "code",
   "execution_count": 25,
   "id": "4d00ff1b",
   "metadata": {},
   "outputs": [],
   "source": [
    "class B:\n",
    "    def method_b(self):\n",
    "        print('method 2')"
   ]
  },
  {
   "cell_type": "code",
   "execution_count": 29,
   "id": "09375085",
   "metadata": {},
   "outputs": [],
   "source": [
    "class c(A, B):\n",
    "    def method_c(self):\n",
    "        print('method 3')\n",
    "        "
   ]
  },
  {
   "cell_type": "code",
   "execution_count": 30,
   "id": "18ffd55f",
   "metadata": {},
   "outputs": [],
   "source": [
    "obj = c()"
   ]
  },
  {
   "cell_type": "code",
   "execution_count": 31,
   "id": "23dd5e91",
   "metadata": {},
   "outputs": [
    {
     "name": "stdout",
     "output_type": "stream",
     "text": [
      "method 1\n"
     ]
    }
   ],
   "source": [
    "obj.method_a()"
   ]
  },
  {
   "cell_type": "code",
   "execution_count": 33,
   "id": "fcd52019",
   "metadata": {},
   "outputs": [
    {
     "name": "stdout",
     "output_type": "stream",
     "text": [
      "method 2\n"
     ]
    }
   ],
   "source": [
    "obj.method_b()"
   ]
  },
  {
   "cell_type": "code",
   "execution_count": 34,
   "id": "54300aaf",
   "metadata": {},
   "outputs": [
    {
     "name": "stdout",
     "output_type": "stream",
     "text": [
      "method 3\n"
     ]
    }
   ],
   "source": [
    "obj.method_c()"
   ]
  },
  {
   "cell_type": "code",
   "execution_count": null,
   "id": "08db0f9e",
   "metadata": {},
   "outputs": [],
   "source": []
  },
  {
   "cell_type": "raw",
   "id": "d94d5791",
   "metadata": {},
   "source": [
    "Q4. What are getter and setter in python? Create a class and create a getter and a setter method in this class."
   ]
  },
  {
   "cell_type": "raw",
   "id": "2692a0fa",
   "metadata": {},
   "source": [
    "In Python, getters and setters are methods used to control access to class attributes (variables). They allow you to encapsulate attribute access and provide additional logic when getting or setting the values of attributes. This helps you ensure data integrity, validation, and encapsulation."
   ]
  },
  {
   "cell_type": "code",
   "execution_count": 35,
   "id": "b86a677e",
   "metadata": {},
   "outputs": [],
   "source": [
    "class Student:\n",
    "    def __init__(self, name, age):\n",
    "        self._name = name  \n",
    "        self._age = age\n",
    "\n",
    "    def get_name(self):\n",
    "        return self._name\n",
    "    \n",
    "    def set_name(self, new_name):\n",
    "        if isinstance(new_name, str):\n",
    "            self._name = new_name\n",
    "        else:\n",
    "            print(\"Name should be a string.\")\n",
    "            \n",
    "    def get_age(self):\n",
    "        return self._age\n",
    "    \n",
    "    def set_age(self, new_age):\n",
    "        if isinstance(new_age, int) and new_age >= 0:\n",
    "            self._age = new_age\n",
    "        else:\n",
    "            print(\"Age should be a non-negative integer.\")"
   ]
  },
  {
   "cell_type": "code",
   "execution_count": 36,
   "id": "4da39186",
   "metadata": {},
   "outputs": [],
   "source": [
    "student = Student('psr', 25)"
   ]
  },
  {
   "cell_type": "code",
   "execution_count": 37,
   "id": "23516677",
   "metadata": {},
   "outputs": [
    {
     "data": {
      "text/plain": [
       "'psr'"
      ]
     },
     "execution_count": 37,
     "metadata": {},
     "output_type": "execute_result"
    }
   ],
   "source": [
    "student.get_name()"
   ]
  },
  {
   "cell_type": "code",
   "execution_count": 38,
   "id": "83f24994",
   "metadata": {},
   "outputs": [
    {
     "data": {
      "text/plain": [
       "25"
      ]
     },
     "execution_count": 38,
     "metadata": {},
     "output_type": "execute_result"
    }
   ],
   "source": [
    "student.get_age()"
   ]
  },
  {
   "cell_type": "code",
   "execution_count": null,
   "id": "8930f621",
   "metadata": {},
   "outputs": [],
   "source": []
  },
  {
   "cell_type": "raw",
   "id": "855b3937",
   "metadata": {},
   "source": [
    "Q5.What is method overriding in python? Write a python code to demonstrate method overriding."
   ]
  },
  {
   "cell_type": "raw",
   "id": "8e550372",
   "metadata": {},
   "source": [
    "Method overriding is a concept in object-oriented programming where a subclass provides a specific implementation for a method that is already defined in its parent class. This allows the subclass to customize or extend the behavior of the inherited method"
   ]
  },
  {
   "cell_type": "code",
   "execution_count": 39,
   "id": "0f2046ff",
   "metadata": {},
   "outputs": [],
   "source": [
    "class Animal:\n",
    "    def speak(self):\n",
    "        print(\"Animal speaks\")\n",
    "\n",
    "class Dog(Animal):\n",
    "    def speak(self):\n",
    "        print(\"Dog barks\")\n",
    "\n",
    "class Cat(Animal):\n",
    "    def speak(self):\n",
    "        print(\"Cat meows\")"
   ]
  },
  {
   "cell_type": "code",
   "execution_count": 40,
   "id": "78956122",
   "metadata": {},
   "outputs": [],
   "source": [
    "dog = Dog()"
   ]
  },
  {
   "cell_type": "code",
   "execution_count": 41,
   "id": "d90bb796",
   "metadata": {},
   "outputs": [],
   "source": [
    "cat = Cat()"
   ]
  },
  {
   "cell_type": "code",
   "execution_count": 42,
   "id": "b20ded58",
   "metadata": {},
   "outputs": [
    {
     "name": "stdout",
     "output_type": "stream",
     "text": [
      "Dog barks\n"
     ]
    }
   ],
   "source": [
    "dog.speak()"
   ]
  },
  {
   "cell_type": "code",
   "execution_count": 43,
   "id": "02b89a95",
   "metadata": {},
   "outputs": [
    {
     "name": "stdout",
     "output_type": "stream",
     "text": [
      "Cat meows\n"
     ]
    }
   ],
   "source": [
    "cat.speak()"
   ]
  },
  {
   "cell_type": "code",
   "execution_count": null,
   "id": "61197c9f",
   "metadata": {},
   "outputs": [],
   "source": []
  }
 ],
 "metadata": {
  "kernelspec": {
   "display_name": "Python 3 (ipykernel)",
   "language": "python",
   "name": "python3"
  },
  "language_info": {
   "codemirror_mode": {
    "name": "ipython",
    "version": 3
   },
   "file_extension": ".py",
   "mimetype": "text/x-python",
   "name": "python",
   "nbconvert_exporter": "python",
   "pygments_lexer": "ipython3",
   "version": "3.9.7"
  }
 },
 "nbformat": 4,
 "nbformat_minor": 5
}
